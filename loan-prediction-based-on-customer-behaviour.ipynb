{
 "cells": [
  {
   "cell_type": "markdown",
   "id": "f0aeb016",
   "metadata": {
    "papermill": {
     "duration": 0.055307,
     "end_time": "2021-11-01T12:38:25.643458",
     "exception": false,
     "start_time": "2021-11-01T12:38:25.588151",
     "status": "completed"
    },
    "tags": []
   },
   "source": [
    "![Loan Prediction EDA based on Customer Behaviour](https://miro.medium.com/max/735/0*lAkevA6upQBq-NCk.jpg)\n",
    "## Loan Prediction based on Customer Behaviour [EDA+Prediction]\n",
    "## Accuracy of 91% \n",
    "Hey Guys, this is the first time I'm sharing a notebook please give feedback on how can I improve this. #HappyLearning "
   ]
  },
  {
   "cell_type": "code",
   "execution_count": 1,
   "id": "15d0bc8d",
   "metadata": {
    "_cell_guid": "b1076dfc-b9ad-4769-8c92-a6c4dae69d19",
    "_uuid": "8f2839f25d086af736a60e9eeb907d3b93b6e0e5",
    "execution": {
     "iopub.execute_input": "2021-11-01T12:38:25.752074Z",
     "iopub.status.busy": "2021-11-01T12:38:25.750864Z",
     "iopub.status.idle": "2021-11-01T12:38:26.674131Z",
     "shell.execute_reply": "2021-11-01T12:38:26.673457Z",
     "shell.execute_reply.started": "2021-11-01T12:32:02.25805Z"
    },
    "papermill": {
     "duration": 0.977771,
     "end_time": "2021-11-01T12:38:26.674298",
     "exception": false,
     "start_time": "2021-11-01T12:38:25.696527",
     "status": "completed"
    },
    "tags": []
   },
   "outputs": [
    {
     "name": "stdout",
     "output_type": "stream",
     "text": [
      "/kaggle/input/loan-prediction-based-on-customer-behavior/Test Data.csv\n",
      "/kaggle/input/loan-prediction-based-on-customer-behavior/Training Data.csv\n",
      "/kaggle/input/loan-prediction-based-on-customer-behavior/Sample Prediction Dataset.csv\n"
     ]
    }
   ],
   "source": [
    "# This Python 3 environment comes with many helpful analytics libraries installed\n",
    "# It is defined by the kaggle/python Docker image: https://github.com/kaggle/docker-python\n",
    "# For example, here's several helpful packages to load\n",
    "\n",
    "import numpy as np # linear algebra\n",
    "import pandas as pd # data processing, CSV file I/O (e.g. pd.read_csv)\n",
    "import matplotlib.pyplot as plt\n",
    "import seaborn as sns\n",
    "\n",
    "# Input data files are available in the read-only \"../input/\" directory\n",
    "# For example, running this (by clicking run or pressing Shift+Enter) will list all files under the input directory\n",
    "\n",
    "import os\n",
    "for dirname, _, filenames in os.walk('/kaggle/input'):\n",
    "    for filename in filenames:\n",
    "        print(os.path.join(dirname, filename))\n",
    "\n",
    "# You can write up to 20GB to the current directory (/kaggle/working/) that gets preserved as output when you create a version using \"Save & Run All\" \n",
    "# You can also write temporary files to /kaggle/temp/, but they won't be saved outside of the current session"
   ]
  },
  {
   "cell_type": "code",
   "execution_count": 2,
   "id": "1802b9a4",
   "metadata": {
    "execution": {
     "iopub.execute_input": "2021-11-01T12:38:26.788926Z",
     "iopub.status.busy": "2021-11-01T12:38:26.788207Z",
     "iopub.status.idle": "2021-11-01T12:38:27.495913Z",
     "shell.execute_reply": "2021-11-01T12:38:27.495095Z",
     "shell.execute_reply.started": "2021-11-01T12:32:03.302678Z"
    },
    "papermill": {
     "duration": 0.768097,
     "end_time": "2021-11-01T12:38:27.496175",
     "exception": false,
     "start_time": "2021-11-01T12:38:26.728078",
     "status": "completed"
    },
    "tags": []
   },
   "outputs": [],
   "source": [
    "df = pd.read_csv('../input/loan-prediction-based-on-customer-behavior/Training Data.csv')"
   ]
  },
  {
   "cell_type": "markdown",
   "id": "d00515cd",
   "metadata": {
    "papermill": {
     "duration": 0.051042,
     "end_time": "2021-11-01T12:38:27.603480",
     "exception": false,
     "start_time": "2021-11-01T12:38:27.552438",
     "status": "completed"
    },
    "tags": []
   },
   "source": [
    "# Data Cleaning + EDA"
   ]
  },
  {
   "cell_type": "code",
   "execution_count": 3,
   "id": "8c6e3b57",
   "metadata": {
    "execution": {
     "iopub.execute_input": "2021-11-01T12:38:27.716819Z",
     "iopub.status.busy": "2021-11-01T12:38:27.714587Z",
     "iopub.status.idle": "2021-11-01T12:38:27.738986Z",
     "shell.execute_reply": "2021-11-01T12:38:27.739456Z",
     "shell.execute_reply.started": "2021-11-01T12:32:04.085589Z"
    },
    "papermill": {
     "duration": 0.084815,
     "end_time": "2021-11-01T12:38:27.739658",
     "exception": false,
     "start_time": "2021-11-01T12:38:27.654843",
     "status": "completed"
    },
    "tags": []
   },
   "outputs": [
    {
     "data": {
      "text/html": [
       "<div>\n",
       "<style scoped>\n",
       "    .dataframe tbody tr th:only-of-type {\n",
       "        vertical-align: middle;\n",
       "    }\n",
       "\n",
       "    .dataframe tbody tr th {\n",
       "        vertical-align: top;\n",
       "    }\n",
       "\n",
       "    .dataframe thead th {\n",
       "        text-align: right;\n",
       "    }\n",
       "</style>\n",
       "<table border=\"1\" class=\"dataframe\">\n",
       "  <thead>\n",
       "    <tr style=\"text-align: right;\">\n",
       "      <th></th>\n",
       "      <th>Id</th>\n",
       "      <th>Income</th>\n",
       "      <th>Age</th>\n",
       "      <th>Experience</th>\n",
       "      <th>Married/Single</th>\n",
       "      <th>House_Ownership</th>\n",
       "      <th>Car_Ownership</th>\n",
       "      <th>Profession</th>\n",
       "      <th>CITY</th>\n",
       "      <th>STATE</th>\n",
       "      <th>CURRENT_JOB_YRS</th>\n",
       "      <th>CURRENT_HOUSE_YRS</th>\n",
       "      <th>Risk_Flag</th>\n",
       "    </tr>\n",
       "  </thead>\n",
       "  <tbody>\n",
       "    <tr>\n",
       "      <th>0</th>\n",
       "      <td>1</td>\n",
       "      <td>1303834</td>\n",
       "      <td>23</td>\n",
       "      <td>3</td>\n",
       "      <td>single</td>\n",
       "      <td>rented</td>\n",
       "      <td>no</td>\n",
       "      <td>Mechanical_engineer</td>\n",
       "      <td>Rewa</td>\n",
       "      <td>Madhya_Pradesh</td>\n",
       "      <td>3</td>\n",
       "      <td>13</td>\n",
       "      <td>0</td>\n",
       "    </tr>\n",
       "    <tr>\n",
       "      <th>1</th>\n",
       "      <td>2</td>\n",
       "      <td>7574516</td>\n",
       "      <td>40</td>\n",
       "      <td>10</td>\n",
       "      <td>single</td>\n",
       "      <td>rented</td>\n",
       "      <td>no</td>\n",
       "      <td>Software_Developer</td>\n",
       "      <td>Parbhani</td>\n",
       "      <td>Maharashtra</td>\n",
       "      <td>9</td>\n",
       "      <td>13</td>\n",
       "      <td>0</td>\n",
       "    </tr>\n",
       "    <tr>\n",
       "      <th>2</th>\n",
       "      <td>3</td>\n",
       "      <td>3991815</td>\n",
       "      <td>66</td>\n",
       "      <td>4</td>\n",
       "      <td>married</td>\n",
       "      <td>rented</td>\n",
       "      <td>no</td>\n",
       "      <td>Technical_writer</td>\n",
       "      <td>Alappuzha</td>\n",
       "      <td>Kerala</td>\n",
       "      <td>4</td>\n",
       "      <td>10</td>\n",
       "      <td>0</td>\n",
       "    </tr>\n",
       "    <tr>\n",
       "      <th>3</th>\n",
       "      <td>4</td>\n",
       "      <td>6256451</td>\n",
       "      <td>41</td>\n",
       "      <td>2</td>\n",
       "      <td>single</td>\n",
       "      <td>rented</td>\n",
       "      <td>yes</td>\n",
       "      <td>Software_Developer</td>\n",
       "      <td>Bhubaneswar</td>\n",
       "      <td>Odisha</td>\n",
       "      <td>2</td>\n",
       "      <td>12</td>\n",
       "      <td>1</td>\n",
       "    </tr>\n",
       "    <tr>\n",
       "      <th>4</th>\n",
       "      <td>5</td>\n",
       "      <td>5768871</td>\n",
       "      <td>47</td>\n",
       "      <td>11</td>\n",
       "      <td>single</td>\n",
       "      <td>rented</td>\n",
       "      <td>no</td>\n",
       "      <td>Civil_servant</td>\n",
       "      <td>Tiruchirappalli[10]</td>\n",
       "      <td>Tamil_Nadu</td>\n",
       "      <td>3</td>\n",
       "      <td>14</td>\n",
       "      <td>1</td>\n",
       "    </tr>\n",
       "    <tr>\n",
       "      <th>...</th>\n",
       "      <td>...</td>\n",
       "      <td>...</td>\n",
       "      <td>...</td>\n",
       "      <td>...</td>\n",
       "      <td>...</td>\n",
       "      <td>...</td>\n",
       "      <td>...</td>\n",
       "      <td>...</td>\n",
       "      <td>...</td>\n",
       "      <td>...</td>\n",
       "      <td>...</td>\n",
       "      <td>...</td>\n",
       "      <td>...</td>\n",
       "    </tr>\n",
       "    <tr>\n",
       "      <th>251995</th>\n",
       "      <td>251996</td>\n",
       "      <td>8154883</td>\n",
       "      <td>43</td>\n",
       "      <td>13</td>\n",
       "      <td>single</td>\n",
       "      <td>rented</td>\n",
       "      <td>no</td>\n",
       "      <td>Surgeon</td>\n",
       "      <td>Kolkata</td>\n",
       "      <td>West_Bengal</td>\n",
       "      <td>6</td>\n",
       "      <td>11</td>\n",
       "      <td>0</td>\n",
       "    </tr>\n",
       "    <tr>\n",
       "      <th>251996</th>\n",
       "      <td>251997</td>\n",
       "      <td>2843572</td>\n",
       "      <td>26</td>\n",
       "      <td>10</td>\n",
       "      <td>single</td>\n",
       "      <td>rented</td>\n",
       "      <td>no</td>\n",
       "      <td>Army_officer</td>\n",
       "      <td>Rewa</td>\n",
       "      <td>Madhya_Pradesh</td>\n",
       "      <td>6</td>\n",
       "      <td>11</td>\n",
       "      <td>0</td>\n",
       "    </tr>\n",
       "    <tr>\n",
       "      <th>251997</th>\n",
       "      <td>251998</td>\n",
       "      <td>4522448</td>\n",
       "      <td>46</td>\n",
       "      <td>7</td>\n",
       "      <td>single</td>\n",
       "      <td>rented</td>\n",
       "      <td>no</td>\n",
       "      <td>Design_Engineer</td>\n",
       "      <td>Kalyan-Dombivli</td>\n",
       "      <td>Maharashtra</td>\n",
       "      <td>7</td>\n",
       "      <td>12</td>\n",
       "      <td>0</td>\n",
       "    </tr>\n",
       "    <tr>\n",
       "      <th>251998</th>\n",
       "      <td>251999</td>\n",
       "      <td>6507128</td>\n",
       "      <td>45</td>\n",
       "      <td>0</td>\n",
       "      <td>single</td>\n",
       "      <td>rented</td>\n",
       "      <td>no</td>\n",
       "      <td>Graphic_Designer</td>\n",
       "      <td>Pondicherry</td>\n",
       "      <td>Puducherry</td>\n",
       "      <td>0</td>\n",
       "      <td>10</td>\n",
       "      <td>0</td>\n",
       "    </tr>\n",
       "    <tr>\n",
       "      <th>251999</th>\n",
       "      <td>252000</td>\n",
       "      <td>9070230</td>\n",
       "      <td>70</td>\n",
       "      <td>17</td>\n",
       "      <td>single</td>\n",
       "      <td>rented</td>\n",
       "      <td>no</td>\n",
       "      <td>Statistician</td>\n",
       "      <td>Avadi</td>\n",
       "      <td>Tamil_Nadu</td>\n",
       "      <td>7</td>\n",
       "      <td>11</td>\n",
       "      <td>0</td>\n",
       "    </tr>\n",
       "  </tbody>\n",
       "</table>\n",
       "<p>252000 rows × 13 columns</p>\n",
       "</div>"
      ],
      "text/plain": [
       "            Id   Income  Age  Experience Married/Single House_Ownership  \\\n",
       "0            1  1303834   23           3         single          rented   \n",
       "1            2  7574516   40          10         single          rented   \n",
       "2            3  3991815   66           4        married          rented   \n",
       "3            4  6256451   41           2         single          rented   \n",
       "4            5  5768871   47          11         single          rented   \n",
       "...        ...      ...  ...         ...            ...             ...   \n",
       "251995  251996  8154883   43          13         single          rented   \n",
       "251996  251997  2843572   26          10         single          rented   \n",
       "251997  251998  4522448   46           7         single          rented   \n",
       "251998  251999  6507128   45           0         single          rented   \n",
       "251999  252000  9070230   70          17         single          rented   \n",
       "\n",
       "       Car_Ownership           Profession                 CITY  \\\n",
       "0                 no  Mechanical_engineer                 Rewa   \n",
       "1                 no   Software_Developer             Parbhani   \n",
       "2                 no     Technical_writer            Alappuzha   \n",
       "3                yes   Software_Developer          Bhubaneswar   \n",
       "4                 no        Civil_servant  Tiruchirappalli[10]   \n",
       "...              ...                  ...                  ...   \n",
       "251995            no              Surgeon              Kolkata   \n",
       "251996            no         Army_officer                 Rewa   \n",
       "251997            no      Design_Engineer      Kalyan-Dombivli   \n",
       "251998            no     Graphic_Designer          Pondicherry   \n",
       "251999            no         Statistician                Avadi   \n",
       "\n",
       "                 STATE  CURRENT_JOB_YRS  CURRENT_HOUSE_YRS  Risk_Flag  \n",
       "0       Madhya_Pradesh                3                 13          0  \n",
       "1          Maharashtra                9                 13          0  \n",
       "2               Kerala                4                 10          0  \n",
       "3               Odisha                2                 12          1  \n",
       "4           Tamil_Nadu                3                 14          1  \n",
       "...                ...              ...                ...        ...  \n",
       "251995     West_Bengal                6                 11          0  \n",
       "251996  Madhya_Pradesh                6                 11          0  \n",
       "251997     Maharashtra                7                 12          0  \n",
       "251998      Puducherry                0                 10          0  \n",
       "251999      Tamil_Nadu                7                 11          0  \n",
       "\n",
       "[252000 rows x 13 columns]"
      ]
     },
     "execution_count": 3,
     "metadata": {},
     "output_type": "execute_result"
    }
   ],
   "source": [
    "df"
   ]
  },
  {
   "cell_type": "markdown",
   "id": "0ba69f53",
   "metadata": {
    "papermill": {
     "duration": 0.064835,
     "end_time": "2021-11-01T12:38:27.864755",
     "exception": false,
     "start_time": "2021-11-01T12:38:27.799920",
     "status": "completed"
    },
    "tags": []
   },
   "source": [
    "# Cleaning names with special characters and numbers"
   ]
  },
  {
   "cell_type": "code",
   "execution_count": 4,
   "id": "b983ec0a",
   "metadata": {
    "execution": {
     "iopub.execute_input": "2021-11-01T12:38:27.977140Z",
     "iopub.status.busy": "2021-11-01T12:38:27.976488Z",
     "iopub.status.idle": "2021-11-01T12:38:27.979687Z",
     "shell.execute_reply": "2021-11-01T12:38:27.979088Z",
     "shell.execute_reply.started": "2021-11-01T12:32:04.128557Z"
    },
    "papermill": {
     "duration": 0.061087,
     "end_time": "2021-11-01T12:38:27.979821",
     "exception": false,
     "start_time": "2021-11-01T12:38:27.918734",
     "status": "completed"
    },
    "tags": []
   },
   "outputs": [],
   "source": [
    "def unclean_names(col):\n",
    "    unclean_names = []\n",
    "    for name in df[str(col)].unique():\n",
    "        if name.endswith(']'):\n",
    "            unclean_names.append(name)\n",
    "    return unclean_names"
   ]
  },
  {
   "cell_type": "code",
   "execution_count": 5,
   "id": "ab89832f",
   "metadata": {
    "execution": {
     "iopub.execute_input": "2021-11-01T12:38:28.099358Z",
     "iopub.status.busy": "2021-11-01T12:38:28.089336Z",
     "iopub.status.idle": "2021-11-01T12:38:28.129897Z",
     "shell.execute_reply": "2021-11-01T12:38:28.129104Z",
     "shell.execute_reply.started": "2021-11-01T12:32:04.137613Z"
    },
    "papermill": {
     "duration": 0.096889,
     "end_time": "2021-11-01T12:38:28.130052",
     "exception": false,
     "start_time": "2021-11-01T12:38:28.033163",
     "status": "completed"
    },
    "tags": []
   },
   "outputs": [
    {
     "data": {
      "text/plain": [
       "['Tiruchirappalli[10]',\n",
       " 'Kota[6]',\n",
       " 'Hajipur[31]',\n",
       " 'Erode[17]',\n",
       " 'Anantapuram[24]',\n",
       " 'Aurangabad[39]',\n",
       " 'Purnia[26]',\n",
       " 'Eluru[25]',\n",
       " 'Siwan[32]',\n",
       " 'Motihari[34]',\n",
       " 'Warangal[11][12]',\n",
       " 'Jehanabad[38]',\n",
       " 'Kishanganj[35]',\n",
       " 'Tirupati[21][22]',\n",
       " 'Kurnool[18]',\n",
       " 'Kadapa[23]',\n",
       " 'Jammu[16]',\n",
       " 'Rajahmundry[19][20]',\n",
       " 'Saharsa[29]',\n",
       " 'Jamalpur[36]',\n",
       " 'Dehri[30]',\n",
       " 'Nellore[14][15]',\n",
       " 'Visakhapatnam[4]',\n",
       " 'Buxar[37]',\n",
       " 'Ramagundam[27]',\n",
       " 'Sasaram[30]',\n",
       " 'Guntur[13]',\n",
       " 'Chittoor[28]',\n",
       " 'Bettiah[33]',\n",
       " 'Mysore[7][8][9]']"
      ]
     },
     "execution_count": 5,
     "metadata": {},
     "output_type": "execute_result"
    }
   ],
   "source": [
    "unclean_city_names = unclean_names('CITY')\n",
    "unclean_city_names"
   ]
  },
  {
   "cell_type": "code",
   "execution_count": 6,
   "id": "01d80f97",
   "metadata": {
    "execution": {
     "iopub.execute_input": "2021-11-01T12:38:28.264942Z",
     "iopub.status.busy": "2021-11-01T12:38:28.253533Z",
     "iopub.status.idle": "2021-11-01T12:38:28.278417Z",
     "shell.execute_reply": "2021-11-01T12:38:28.277853Z",
     "shell.execute_reply.started": "2021-11-01T12:32:04.185583Z"
    },
    "papermill": {
     "duration": 0.091219,
     "end_time": "2021-11-01T12:38:28.278596",
     "exception": false,
     "start_time": "2021-11-01T12:38:28.187377",
     "status": "completed"
    },
    "tags": []
   },
   "outputs": [
    {
     "data": {
      "text/plain": [
       "['Uttar_Pradesh[5]']"
      ]
     },
     "execution_count": 6,
     "metadata": {},
     "output_type": "execute_result"
    }
   ],
   "source": [
    "unclean_state_names = unclean_names('STATE')\n",
    "unclean_state_names"
   ]
  },
  {
   "cell_type": "code",
   "execution_count": 7,
   "id": "8da3f831",
   "metadata": {
    "execution": {
     "iopub.execute_input": "2021-11-01T12:38:28.403195Z",
     "iopub.status.busy": "2021-11-01T12:38:28.402586Z",
     "iopub.status.idle": "2021-11-01T12:38:28.404495Z",
     "shell.execute_reply": "2021-11-01T12:38:28.405071Z",
     "shell.execute_reply.started": "2021-11-01T12:32:04.220972Z"
    },
    "papermill": {
     "duration": 0.067523,
     "end_time": "2021-11-01T12:38:28.405224",
     "exception": false,
     "start_time": "2021-11-01T12:38:28.337701",
     "status": "completed"
    },
    "tags": []
   },
   "outputs": [],
   "source": [
    "def clean_df(df,col,unclean_list):\n",
    "    for index,name in enumerate(df[col]):\n",
    "        if name in unclean_list:\n",
    "            if name.endswith(']'):\n",
    "                name_ = name.strip('[]0123456789')\n",
    "                df[col].iloc[index] = name_"
   ]
  },
  {
   "cell_type": "code",
   "execution_count": 8,
   "id": "6daddff2",
   "metadata": {
    "execution": {
     "iopub.execute_input": "2021-11-01T12:38:28.518764Z",
     "iopub.status.busy": "2021-11-01T12:38:28.517741Z",
     "iopub.status.idle": "2021-11-01T12:38:29.247217Z",
     "shell.execute_reply": "2021-11-01T12:38:29.247830Z",
     "shell.execute_reply.started": "2021-11-01T12:32:04.230849Z"
    },
    "papermill": {
     "duration": 0.789301,
     "end_time": "2021-11-01T12:38:29.248041",
     "exception": false,
     "start_time": "2021-11-01T12:38:28.458740",
     "status": "completed"
    },
    "tags": []
   },
   "outputs": [
    {
     "name": "stderr",
     "output_type": "stream",
     "text": [
      "/opt/conda/lib/python3.7/site-packages/pandas/core/indexing.py:1732: SettingWithCopyWarning: \n",
      "A value is trying to be set on a copy of a slice from a DataFrame\n",
      "\n",
      "See the caveats in the documentation: https://pandas.pydata.org/pandas-docs/stable/user_guide/indexing.html#returning-a-view-versus-a-copy\n",
      "  self._setitem_single_block(indexer, value, name)\n"
     ]
    }
   ],
   "source": [
    "clean_df(df,'STATE',unclean_state_names)"
   ]
  },
  {
   "cell_type": "code",
   "execution_count": 9,
   "id": "5d77c565",
   "metadata": {
    "execution": {
     "iopub.execute_input": "2021-11-01T12:38:30.268800Z",
     "iopub.status.busy": "2021-11-01T12:38:30.096839Z",
     "iopub.status.idle": "2021-11-01T12:38:48.316920Z",
     "shell.execute_reply": "2021-11-01T12:38:48.316342Z",
     "shell.execute_reply.started": "2021-11-01T12:32:04.904636Z"
    },
    "papermill": {
     "duration": 19.010044,
     "end_time": "2021-11-01T12:38:48.317074",
     "exception": false,
     "start_time": "2021-11-01T12:38:29.307030",
     "status": "completed"
    },
    "tags": []
   },
   "outputs": [],
   "source": [
    "clean_df(df,'CITY',unclean_city_names)"
   ]
  },
  {
   "cell_type": "markdown",
   "id": "375c3777",
   "metadata": {
    "papermill": {
     "duration": 0.054003,
     "end_time": "2021-11-01T12:38:48.426360",
     "exception": false,
     "start_time": "2021-11-01T12:38:48.372357",
     "status": "completed"
    },
    "tags": []
   },
   "source": [
    "# Checking for any Outliers"
   ]
  },
  {
   "cell_type": "code",
   "execution_count": 10,
   "id": "a08652b6",
   "metadata": {
    "execution": {
     "iopub.execute_input": "2021-11-01T12:38:48.538142Z",
     "iopub.status.busy": "2021-11-01T12:38:48.537402Z",
     "iopub.status.idle": "2021-11-01T12:38:48.805131Z",
     "shell.execute_reply": "2021-11-01T12:38:48.805623Z",
     "shell.execute_reply.started": "2021-11-01T12:32:23.997522Z"
    },
    "papermill": {
     "duration": 0.326089,
     "end_time": "2021-11-01T12:38:48.805791",
     "exception": false,
     "start_time": "2021-11-01T12:38:48.479702",
     "status": "completed"
    },
    "tags": []
   },
   "outputs": [
    {
     "data": {
      "text/plain": [
       "Text(0.5, 0, 'Age')"
      ]
     },
     "execution_count": 10,
     "metadata": {},
     "output_type": "execute_result"
    },
    {
     "data": {
      "image/png": "[encoded data removed]",
      "text/plain": [
       "<Figure size 720x576 with 1 Axes>"
      ]
     },
     "metadata": {
      "needs_background": "light"
     },
     "output_type": "display_data"
    }
   ],
   "source": [
    "df['Age'].plot(kind='hist',figsize=(10,8))\n",
    "plt.xlabel('Age')"
   ]
  },
  {
   "cell_type": "code",
   "execution_count": 11,
   "id": "2fb55870",
   "metadata": {
    "execution": {
     "iopub.execute_input": "2021-11-01T12:38:48.917970Z",
     "iopub.status.busy": "2021-11-01T12:38:48.917311Z",
     "iopub.status.idle": "2021-11-01T12:38:49.115212Z",
     "shell.execute_reply": "2021-11-01T12:38:49.114693Z",
     "shell.execute_reply.started": "2021-11-01T12:32:24.331526Z"
    },
    "papermill": {
     "duration": 0.255047,
     "end_time": "2021-11-01T12:38:49.115356",
     "exception": false,
     "start_time": "2021-11-01T12:38:48.860309",
     "status": "completed"
    },
    "tags": []
   },
   "outputs": [
    {
     "data": {
      "text/plain": [
       "<AxesSubplot:>"
      ]
     },
     "execution_count": 11,
     "metadata": {},
     "output_type": "execute_result"
    },
    {
     "data": {
      "image/png": "[encoded data removed]",
      "text/plain": [
       "<Figure size 432x288 with 1 Axes>"
      ]
     },
     "metadata": {
      "needs_background": "light"
     },
     "output_type": "display_data"
    }
   ],
   "source": [
    "df['Income'].plot(kind='box')"
   ]
  },
  {
   "cell_type": "code",
   "execution_count": 12,
   "id": "1d6a5662",
   "metadata": {
    "execution": {
     "iopub.execute_input": "2021-11-01T12:38:49.231442Z",
     "iopub.status.busy": "2021-11-01T12:38:49.230790Z",
     "iopub.status.idle": "2021-11-01T12:38:49.485325Z",
     "shell.execute_reply": "2021-11-01T12:38:49.485803Z",
     "shell.execute_reply.started": "2021-11-01T12:32:24.511148Z"
    },
    "papermill": {
     "duration": 0.314236,
     "end_time": "2021-11-01T12:38:49.485980",
     "exception": false,
     "start_time": "2021-11-01T12:38:49.171744",
     "status": "completed"
    },
    "tags": []
   },
   "outputs": [
    {
     "data": {
      "text/plain": [
       "<AxesSubplot:ylabel='Frequency'>"
      ]
     },
     "execution_count": 12,
     "metadata": {},
     "output_type": "execute_result"
    },
    {
     "data": {
      "image/png": "[encoded data removed]",
      "text/plain": [
       "<Figure size 432x288 with 1 Axes>"
      ]
     },
     "metadata": {
      "needs_background": "light"
     },
     "output_type": "display_data"
    }
   ],
   "source": [
    "df['Income'].plot(kind='hist')"
   ]
  },
  {
   "cell_type": "code",
   "execution_count": 13,
   "id": "6bcb48f9",
   "metadata": {
    "execution": {
     "iopub.execute_input": "2021-11-01T12:38:49.602200Z",
     "iopub.status.busy": "2021-11-01T12:38:49.601242Z",
     "iopub.status.idle": "2021-11-01T12:38:49.806630Z",
     "shell.execute_reply": "2021-11-01T12:38:49.806049Z",
     "shell.execute_reply.started": "2021-11-01T12:32:24.813853Z"
    },
    "papermill": {
     "duration": 0.264598,
     "end_time": "2021-11-01T12:38:49.806836",
     "exception": false,
     "start_time": "2021-11-01T12:38:49.542238",
     "status": "completed"
    },
    "tags": []
   },
   "outputs": [
    {
     "data": {
      "text/plain": [
       "<AxesSubplot:>"
      ]
     },
     "execution_count": 13,
     "metadata": {},
     "output_type": "execute_result"
    },
    {
     "data": {
      "image/png": "[encoded data removed]",
      "text/plain": [
       "<Figure size 432x288 with 1 Axes>"
      ]
     },
     "metadata": {
      "needs_background": "light"
     },
     "output_type": "display_data"
    }
   ],
   "source": [
    "df['CURRENT_JOB_YRS'].plot(kind='box')"
   ]
  },
  {
   "cell_type": "code",
   "execution_count": 14,
   "id": "a52e4073",
   "metadata": {
    "execution": {
     "iopub.execute_input": "2021-11-01T12:38:49.947868Z",
     "iopub.status.busy": "2021-11-01T12:38:49.947205Z",
     "iopub.status.idle": "2021-11-01T12:38:50.154533Z",
     "shell.execute_reply": "2021-11-01T12:38:50.153921Z",
     "shell.execute_reply.started": "2021-11-01T12:32:25.045624Z"
    },
    "papermill": {
     "duration": 0.267515,
     "end_time": "2021-11-01T12:38:50.154690",
     "exception": false,
     "start_time": "2021-11-01T12:38:49.887175",
     "status": "completed"
    },
    "tags": []
   },
   "outputs": [
    {
     "data": {
      "text/plain": [
       "<AxesSubplot:>"
      ]
     },
     "execution_count": 14,
     "metadata": {},
     "output_type": "execute_result"
    },
    {
     "data": {
      "image/png": "[encoded data removed]",
      "text/plain": [
       "<Figure size 432x288 with 1 Axes>"
      ]
     },
     "metadata": {
      "needs_background": "light"
     },
     "output_type": "display_data"
    }
   ],
   "source": [
    "df['CURRENT_HOUSE_YRS'].plot(kind='box')"
   ]
  },
  {
   "cell_type": "code",
   "execution_count": 15,
   "id": "3841556f",
   "metadata": {
    "execution": {
     "iopub.execute_input": "2021-11-01T12:38:50.276401Z",
     "iopub.status.busy": "2021-11-01T12:38:50.275744Z",
     "iopub.status.idle": "2021-11-01T12:38:50.480350Z",
     "shell.execute_reply": "2021-11-01T12:38:50.479820Z",
     "shell.execute_reply.started": "2021-11-01T12:32:25.285379Z"
    },
    "papermill": {
     "duration": 0.267465,
     "end_time": "2021-11-01T12:38:50.480480",
     "exception": false,
     "start_time": "2021-11-01T12:38:50.213015",
     "status": "completed"
    },
    "tags": []
   },
   "outputs": [
    {
     "data": {
      "text/plain": [
       "<AxesSubplot:>"
      ]
     },
     "execution_count": 15,
     "metadata": {},
     "output_type": "execute_result"
    },
    {
     "data": {
      "image/png": "[encoded data removed]",
      "text/plain": [
       "<Figure size 432x288 with 1 Axes>"
      ]
     },
     "metadata": {
      "needs_background": "light"
     },
     "output_type": "display_data"
    }
   ],
   "source": [
    "df['Experience'].plot(kind='box')"
   ]
  },
  {
   "cell_type": "markdown",
   "id": "27f38081",
   "metadata": {
    "papermill": {
     "duration": 0.058511,
     "end_time": "2021-11-01T12:38:50.598296",
     "exception": false,
     "start_time": "2021-11-01T12:38:50.539785",
     "status": "completed"
    },
    "tags": []
   },
   "source": [
    "# EDA"
   ]
  },
  {
   "cell_type": "code",
   "execution_count": 16,
   "id": "a4f0153d",
   "metadata": {
    "execution": {
     "iopub.execute_input": "2021-11-01T12:38:50.724510Z",
     "iopub.status.busy": "2021-11-01T12:38:50.723890Z",
     "iopub.status.idle": "2021-11-01T12:38:51.710636Z",
     "shell.execute_reply": "2021-11-01T12:38:51.711158Z",
     "shell.execute_reply.started": "2021-11-01T12:32:25.7024Z"
    },
    "papermill": {
     "duration": 1.054168,
     "end_time": "2021-11-01T12:38:51.711331",
     "exception": false,
     "start_time": "2021-11-01T12:38:50.657163",
     "status": "completed"
    },
    "tags": []
   },
   "outputs": [
    {
     "data": {
      "image/png": "[encoded data removed]",
      "text/plain": [
       "<Figure size 720x720 with 2 Axes>"
      ]
     },
     "metadata": {
      "needs_background": "light"
     },
     "output_type": "display_data"
    }
   ],
   "source": [
    "fig = plt.figure()\n",
    "ax1 = fig.add_subplot(2,1,1,anchor='C')\n",
    "plt.title('Information')\n",
    "df.groupby('Risk_Flag').count()['Id'].plot(kind='pie',labels=['Non-Defaulter','Defaulter'],autopct='%1.1f%%',ax=ax1,figsize=(10,10))\n",
    "plt.xlabel('% of Defaulters')\n",
    "plt.ylabel('')\n",
    "plt.legend(loc='right',bbox_to_anchor=(0.7,0,1,1))\n",
    "ax2 = fig.add_subplot(2,1,2,anchor='S')\n",
    "df.groupby('Risk_Flag').count()['Id'].plot(kind='bar',ax=ax2)\n",
    "plt.xlabel('Defaulters')\n",
    "plt.ylabel('Count')\n",
    "for index,value in enumerate(df.groupby('Risk_Flag').count()['Id']):\n",
    "    plt.text(index-0.08,value+10000,str(value))\n",
    "plt.ylim(0,250000)\n",
    "plt.show()"
   ]
  },
  {
   "cell_type": "code",
   "execution_count": 17,
   "id": "54e4a31c",
   "metadata": {
    "execution": {
     "iopub.execute_input": "2021-11-01T12:38:51.835245Z",
     "iopub.status.busy": "2021-11-01T12:38:51.834643Z",
     "iopub.status.idle": "2021-11-01T12:38:52.191592Z",
     "shell.execute_reply": "2021-11-01T12:38:52.192032Z",
     "shell.execute_reply.started": "2021-11-01T12:32:26.665362Z"
    },
    "papermill": {
     "duration": 0.420481,
     "end_time": "2021-11-01T12:38:52.192209",
     "exception": false,
     "start_time": "2021-11-01T12:38:51.771728",
     "status": "completed"
    },
    "tags": []
   },
   "outputs": [
    {
     "data": {
      "image/png": "[encoded data removed]",
      "text/plain": [
       "<Figure size 432x288 with 1 Axes>"
      ]
     },
     "metadata": {},
     "output_type": "display_data"
    }
   ],
   "source": [
    "df.groupby('Married/Single').count()['Id'].plot(kind='pie',startangle=0,labels=['Married','Single'],autopct='%1.1f%%',colors=['Pink','Teal'])\n",
    "plt.ylabel('')\n",
    "plt.xlabel('Marital Status')\n",
    "plt.title('Total % of Customers who are married/single')\n",
    "plt.legend(loc='best',bbox_to_anchor=(1,0,0.5,0.5))\n",
    "plt.show()"
   ]
  },
  {
   "cell_type": "code",
   "execution_count": 18,
   "id": "9fafbdae",
   "metadata": {
    "execution": {
     "iopub.execute_input": "2021-11-01T12:38:52.317508Z",
     "iopub.status.busy": "2021-11-01T12:38:52.316902Z",
     "iopub.status.idle": "2021-11-01T12:38:52.353321Z",
     "shell.execute_reply": "2021-11-01T12:38:52.352828Z",
     "shell.execute_reply.started": "2021-11-01T12:32:27.086756Z"
    },
    "papermill": {
     "duration": 0.100222,
     "end_time": "2021-11-01T12:38:52.353459",
     "exception": false,
     "start_time": "2021-11-01T12:38:52.253237",
     "status": "completed"
    },
    "tags": []
   },
   "outputs": [
    {
     "data": {
      "text/plain": [
       "Married/Single\n",
       "married     2636\n",
       "single     28360\n",
       "Name: Id, dtype: int64"
      ]
     },
     "execution_count": 18,
     "metadata": {},
     "output_type": "execute_result"
    }
   ],
   "source": [
    "df.loc[df['Risk_Flag'] == 1].groupby('Married/Single').count()['Id']"
   ]
  },
  {
   "cell_type": "code",
   "execution_count": 19,
   "id": "47b18439",
   "metadata": {
    "execution": {
     "iopub.execute_input": "2021-11-01T12:38:52.480517Z",
     "iopub.status.busy": "2021-11-01T12:38:52.479889Z",
     "iopub.status.idle": "2021-11-01T12:38:52.680775Z",
     "shell.execute_reply": "2021-11-01T12:38:52.681242Z",
     "shell.execute_reply.started": "2021-11-01T12:32:27.153437Z"
    },
    "papermill": {
     "duration": 0.26544,
     "end_time": "2021-11-01T12:38:52.681403",
     "exception": false,
     "start_time": "2021-11-01T12:38:52.415963",
     "status": "completed"
    },
    "tags": []
   },
   "outputs": [
    {
     "data": {
      "image/png": "[encoded data removed]",
      "text/plain": [
       "<Figure size 432x288 with 1 Axes>"
      ]
     },
     "metadata": {},
     "output_type": "display_data"
    }
   ],
   "source": [
    "marital_status = df.loc[df['Risk_Flag'] == 1].groupby('Married/Single').count()['Id']\n",
    "marital_status.plot(kind='pie',startangle=0,labels=['Married','Single'],autopct='%1.1f%%')\n",
    "plt.ylabel('')\n",
    "plt.xlabel('Marital Status')\n",
    "plt.title('Loan Defaulters % by Marital Status')\n",
    "plt.legend(loc='best',bbox_to_anchor=(1,0,0.5,0.5))\n",
    "plt.show()"
   ]
  },
  {
   "cell_type": "code",
   "execution_count": 20,
   "id": "4a643c38",
   "metadata": {
    "execution": {
     "iopub.execute_input": "2021-11-01T12:38:52.808389Z",
     "iopub.status.busy": "2021-11-01T12:38:52.807783Z",
     "iopub.status.idle": "2021-11-01T12:38:52.994728Z",
     "shell.execute_reply": "2021-11-01T12:38:52.994036Z",
     "shell.execute_reply.started": "2021-11-01T12:32:27.40564Z"
    },
    "papermill": {
     "duration": 0.251459,
     "end_time": "2021-11-01T12:38:52.994893",
     "exception": false,
     "start_time": "2021-11-01T12:38:52.743434",
     "status": "completed"
    },
    "tags": []
   },
   "outputs": [],
   "source": [
    "house_ownership_count = df.groupby('House_Ownership').count()['Id']\n",
    "house_ownership_count = [231898,7184,12918]"
   ]
  },
  {
   "cell_type": "code",
   "execution_count": 21,
   "id": "11d78e35",
   "metadata": {
    "execution": {
     "iopub.execute_input": "2021-11-01T12:38:53.125473Z",
     "iopub.status.busy": "2021-11-01T12:38:53.124872Z",
     "iopub.status.idle": "2021-11-01T12:38:53.918437Z",
     "shell.execute_reply": "2021-11-01T12:38:53.918899Z",
     "shell.execute_reply.started": "2021-11-01T12:32:27.61557Z"
    },
    "papermill": {
     "duration": 0.860329,
     "end_time": "2021-11-01T12:38:53.919067",
     "exception": false,
     "start_time": "2021-11-01T12:38:53.058738",
     "status": "completed"
    },
    "tags": []
   },
   "outputs": [
    {
     "data": {
      "text/plain": [
       "(0.0, 250000.0)"
      ]
     },
     "execution_count": 21,
     "metadata": {},
     "output_type": "execute_result"
    },
    {
     "data": {
      "image/png": "[encoded data removed]",
      "text/plain": [
       "<Figure size 432x288 with 1 Axes>"
      ]
     },
     "metadata": {
      "needs_background": "light"
     },
     "output_type": "display_data"
    }
   ],
   "source": [
    "sns.countplot(data=df,x='House_Ownership',hue='House_Ownership',)\n",
    "plt.text(-0.4,235000,str(231898))\n",
    "plt.text(0.9,10000,str(7184))\n",
    "plt.text(2.14,16000,str(12918))\n",
    "plt.title('House Ownership of All Customers')\n",
    "plt.ylim(0,250000)"
   ]
  },
  {
   "cell_type": "code",
   "execution_count": 22,
   "id": "fc99fce9",
   "metadata": {
    "execution": {
     "iopub.execute_input": "2021-11-01T12:38:54.049331Z",
     "iopub.status.busy": "2021-11-01T12:38:54.048732Z",
     "iopub.status.idle": "2021-11-01T12:38:54.085884Z",
     "shell.execute_reply": "2021-11-01T12:38:54.085345Z",
     "shell.execute_reply.started": "2021-11-01T12:32:28.468321Z"
    },
    "papermill": {
     "duration": 0.103359,
     "end_time": "2021-11-01T12:38:54.086023",
     "exception": false,
     "start_time": "2021-11-01T12:38:53.982664",
     "status": "completed"
    },
    "tags": []
   },
   "outputs": [
    {
     "data": {
      "text/plain": [
       "House_Ownership\n",
       "norent_noown      715\n",
       "owned            1160\n",
       "rented          29121\n",
       "Name: Id, dtype: int64"
      ]
     },
     "execution_count": 22,
     "metadata": {},
     "output_type": "execute_result"
    }
   ],
   "source": [
    "df.loc[df['Risk_Flag'] == 1].groupby('House_Ownership').count()['Id']"
   ]
  },
  {
   "cell_type": "code",
   "execution_count": 23,
   "id": "c4626a80",
   "metadata": {
    "execution": {
     "iopub.execute_input": "2021-11-01T12:38:54.217182Z",
     "iopub.status.busy": "2021-11-01T12:38:54.216241Z",
     "iopub.status.idle": "2021-11-01T12:38:54.535125Z",
     "shell.execute_reply": "2021-11-01T12:38:54.534634Z",
     "shell.execute_reply.started": "2021-11-01T12:32:28.516896Z"
    },
    "papermill": {
     "duration": 0.385353,
     "end_time": "2021-11-01T12:38:54.535262",
     "exception": false,
     "start_time": "2021-11-01T12:38:54.149909",
     "status": "completed"
    },
    "tags": []
   },
   "outputs": [
    {
     "data": {
      "image/png": "[encoded data removed]",
      "text/plain": [
       "<Figure size 432x288 with 1 Axes>"
      ]
     },
     "metadata": {
      "needs_background": "light"
     },
     "output_type": "display_data"
    }
   ],
   "source": [
    "sns.countplot(data=df.loc[df['Risk_Flag'] == 1],x='House_Ownership',hue='House_Ownership')\n",
    "plt.text(-0.4,30000,str(29121))\n",
    "plt.text(0.9,2000,str(1160))\n",
    "plt.text(2.14,1800,str(715))\n",
    "plt.ylim(0,35000)\n",
    "plt.title('House Ownership of Loan Defaulting Customers')\n",
    "plt.show()"
   ]
  },
  {
   "cell_type": "code",
   "execution_count": 24,
   "id": "a27f5c3c",
   "metadata": {
    "execution": {
     "iopub.execute_input": "2021-11-01T12:38:54.667436Z",
     "iopub.status.busy": "2021-11-01T12:38:54.666847Z",
     "iopub.status.idle": "2021-11-01T12:38:55.088167Z",
     "shell.execute_reply": "2021-11-01T12:38:55.087680Z",
     "shell.execute_reply.started": "2021-11-01T12:32:28.870485Z"
    },
    "papermill": {
     "duration": 0.488549,
     "end_time": "2021-11-01T12:38:55.088304",
     "exception": false,
     "start_time": "2021-11-01T12:38:54.599755",
     "status": "completed"
    },
    "tags": []
   },
   "outputs": [
    {
     "data": {
      "text/plain": [
       "<matplotlib.legend.Legend at 0x7ff9653cb190>"
      ]
     },
     "execution_count": 24,
     "metadata": {},
     "output_type": "execute_result"
    },
    {
     "data": {
      "image/png": "[encoded data removed]",
      "text/plain": [
       "<Figure size 360x360 with 1 Axes>"
      ]
     },
     "metadata": {},
     "output_type": "display_data"
    }
   ],
   "source": [
    "df.groupby('House_Ownership').count()['Id'].plot(kind='pie',startangle=0,autopct='%1.1f%%',figsize=(5,5))\n",
    "plt.ylabel('')\n",
    "plt.xlabel('House Ownership')\n",
    "plt.title('House Ownership % of Customers')\n",
    "plt.legend(loc='best',bbox_to_anchor=(1,0,0.5,0.5))"
   ]
  },
  {
   "cell_type": "code",
   "execution_count": 25,
   "id": "5b5ac6e3",
   "metadata": {
    "execution": {
     "iopub.execute_input": "2021-11-01T12:38:55.223730Z",
     "iopub.status.busy": "2021-11-01T12:38:55.223061Z",
     "iopub.status.idle": "2021-11-01T12:38:55.489681Z",
     "shell.execute_reply": "2021-11-01T12:38:55.490171Z",
     "shell.execute_reply.started": "2021-11-01T12:32:29.327507Z"
    },
    "papermill": {
     "duration": 0.335895,
     "end_time": "2021-11-01T12:38:55.490336",
     "exception": false,
     "start_time": "2021-11-01T12:38:55.154441",
     "status": "completed"
    },
    "tags": []
   },
   "outputs": [
    {
     "data": {
      "text/plain": [
       "<matplotlib.legend.Legend at 0x7ff9652cc3d0>"
      ]
     },
     "execution_count": 25,
     "metadata": {},
     "output_type": "execute_result"
    },
    {
     "data": {
      "image/png": "[encoded data removed]",
      "text/plain": [
       "<Figure size 360x360 with 1 Axes>"
      ]
     },
     "metadata": {},
     "output_type": "display_data"
    }
   ],
   "source": [
    "df.loc[df['Risk_Flag'] == 1].groupby('House_Ownership').count()['Id'].plot(kind='pie',startangle=0,autopct='%1.1f%%',figsize=(5,5))\n",
    "plt.ylabel('')\n",
    "plt.title('House Ownership % of Loan Defaulters')\n",
    "plt.xlabel('House Ownership')\n",
    "plt.legend(loc='best',bbox_to_anchor=(1,0,0.5,0.5))"
   ]
  },
  {
   "cell_type": "code",
   "execution_count": 26,
   "id": "cf055d51",
   "metadata": {
    "execution": {
     "iopub.execute_input": "2021-11-01T12:38:55.628090Z",
     "iopub.status.busy": "2021-11-01T12:38:55.627454Z",
     "iopub.status.idle": "2021-11-01T12:38:55.820478Z",
     "shell.execute_reply": "2021-11-01T12:38:55.819880Z",
     "shell.execute_reply.started": "2021-11-01T12:32:29.624482Z"
    },
    "papermill": {
     "duration": 0.262557,
     "end_time": "2021-11-01T12:38:55.820628",
     "exception": false,
     "start_time": "2021-11-01T12:38:55.558071",
     "status": "completed"
    },
    "tags": []
   },
   "outputs": [
    {
     "data": {
      "text/plain": [
       "Car_Ownership\n",
       "no     176000\n",
       "yes     76000\n",
       "Name: Id, dtype: int64"
      ]
     },
     "execution_count": 26,
     "metadata": {},
     "output_type": "execute_result"
    }
   ],
   "source": [
    "car_ownership = df.groupby('Car_Ownership').count()['Id']\n",
    "car_ownership"
   ]
  },
  {
   "cell_type": "code",
   "execution_count": 27,
   "id": "6a6cd1f0",
   "metadata": {
    "execution": {
     "iopub.execute_input": "2021-11-01T12:38:55.988768Z",
     "iopub.status.busy": "2021-11-01T12:38:55.988136Z",
     "iopub.status.idle": "2021-11-01T12:38:56.662532Z",
     "shell.execute_reply": "2021-11-01T12:38:56.661936Z",
     "shell.execute_reply.started": "2021-11-01T12:32:29.835911Z"
    },
    "papermill": {
     "duration": 0.774448,
     "end_time": "2021-11-01T12:38:56.662683",
     "exception": false,
     "start_time": "2021-11-01T12:38:55.888235",
     "status": "completed"
    },
    "tags": []
   },
   "outputs": [
    {
     "data": {
      "image/png": "[encoded data removed]",
      "text/plain": [
       "<Figure size 432x288 with 1 Axes>"
      ]
     },
     "metadata": {
      "needs_background": "light"
     },
     "output_type": "display_data"
    }
   ],
   "source": [
    "sns.countplot(data=df,x='Car_Ownership',hue='Car_Ownership')\n",
    "plt.text(-0.3,177000,str(176000))\n",
    "plt.text(1.1,78000,str(78000))\n",
    "plt.ylim(0,200000)\n",
    "plt.title('Car Ownership of All Customers')\n",
    "plt.show()"
   ]
  },
  {
   "cell_type": "code",
   "execution_count": 28,
   "id": "ad8db144",
   "metadata": {
    "execution": {
     "iopub.execute_input": "2021-11-01T12:38:56.826993Z",
     "iopub.status.busy": "2021-11-01T12:38:56.817817Z",
     "iopub.status.idle": "2021-11-01T12:38:56.954576Z",
     "shell.execute_reply": "2021-11-01T12:38:56.955098Z",
     "shell.execute_reply.started": "2021-11-01T12:32:30.578728Z"
    },
    "papermill": {
     "duration": 0.224071,
     "end_time": "2021-11-01T12:38:56.955261",
     "exception": false,
     "start_time": "2021-11-01T12:38:56.731190",
     "status": "completed"
    },
    "tags": []
   },
   "outputs": [
    {
     "data": {
      "image/png": "[encoded data removed]",
      "text/plain": [
       "<Figure size 432x288 with 1 Axes>"
      ]
     },
     "metadata": {},
     "output_type": "display_data"
    }
   ],
   "source": [
    "car_ownership.plot(kind='pie',startangle=0,labels=['Do not Own','Own'],autopct='%1.1f%%')\n",
    "plt.ylabel('')\n",
    "plt.xlabel('Car Ownership')\n",
    "plt.title('Car Ownership % of All Customers')\n",
    "plt.legend(loc='best',bbox_to_anchor=(1,0,0.5,0.5))\n",
    "plt.show()"
   ]
  },
  {
   "cell_type": "code",
   "execution_count": 29,
   "id": "7a3c6920",
   "metadata": {
    "execution": {
     "iopub.execute_input": "2021-11-01T12:38:57.099519Z",
     "iopub.status.busy": "2021-11-01T12:38:57.098859Z",
     "iopub.status.idle": "2021-11-01T12:38:57.279223Z",
     "shell.execute_reply": "2021-11-01T12:38:57.279716Z",
     "shell.execute_reply.started": "2021-11-01T12:32:30.758849Z"
    },
    "papermill": {
     "duration": 0.254066,
     "end_time": "2021-11-01T12:38:57.279882",
     "exception": false,
     "start_time": "2021-11-01T12:38:57.025816",
     "status": "completed"
    },
    "tags": []
   },
   "outputs": [
    {
     "data": {
      "image/png": "[encoded data removed]",
      "text/plain": [
       "<Figure size 432x288 with 1 Axes>"
      ]
     },
     "metadata": {},
     "output_type": "display_data"
    }
   ],
   "source": [
    "car_ownership_default = df.loc[df['Risk_Flag'] == 1].groupby('Car_Ownership').count()['Id']\n",
    "car_ownership_default.plot(kind='pie',startangle=0,labels=['Do not Own','Own'],autopct='%1.1f%%')\n",
    "plt.ylabel('')\n",
    "plt.xlabel('Car Ownership')\n",
    "plt.title('Car Ownership % of Loan Defaulting Customers')\n",
    "plt.legend(loc='best',bbox_to_anchor=(1,0,0.5,0.5))\n",
    "plt.show()"
   ]
  },
  {
   "cell_type": "code",
   "execution_count": 30,
   "id": "7941d3e5",
   "metadata": {
    "execution": {
     "iopub.execute_input": "2021-11-01T12:38:57.426454Z",
     "iopub.status.busy": "2021-11-01T12:38:57.425873Z",
     "iopub.status.idle": "2021-11-01T12:38:57.471585Z",
     "shell.execute_reply": "2021-11-01T12:38:57.472040Z",
     "shell.execute_reply.started": "2021-11-01T12:32:30.968345Z"
    },
    "papermill": {
     "duration": 0.12168,
     "end_time": "2021-11-01T12:38:57.472206",
     "exception": false,
     "start_time": "2021-11-01T12:38:57.350526",
     "status": "completed"
    },
    "tags": []
   },
   "outputs": [
    {
     "data": {
      "text/html": [
       "<div>\n",
       "<style scoped>\n",
       "    .dataframe tbody tr th:only-of-type {\n",
       "        vertical-align: middle;\n",
       "    }\n",
       "\n",
       "    .dataframe tbody tr th {\n",
       "        vertical-align: top;\n",
       "    }\n",
       "\n",
       "    .dataframe thead th {\n",
       "        text-align: right;\n",
       "    }\n",
       "</style>\n",
       "<table border=\"1\" class=\"dataframe\">\n",
       "  <thead>\n",
       "    <tr style=\"text-align: right;\">\n",
       "      <th></th>\n",
       "      <th>STATE</th>\n",
       "      <th>Total_Defaulters</th>\n",
       "    </tr>\n",
       "  </thead>\n",
       "  <tbody>\n",
       "    <tr>\n",
       "      <th>0</th>\n",
       "      <td>Andhra_Pradesh</td>\n",
       "      <td>2935</td>\n",
       "    </tr>\n",
       "    <tr>\n",
       "      <th>1</th>\n",
       "      <td>Assam</td>\n",
       "      <td>930</td>\n",
       "    </tr>\n",
       "    <tr>\n",
       "      <th>2</th>\n",
       "      <td>Bihar</td>\n",
       "      <td>2583</td>\n",
       "    </tr>\n",
       "    <tr>\n",
       "      <th>3</th>\n",
       "      <td>Chandigarh</td>\n",
       "      <td>61</td>\n",
       "    </tr>\n",
       "    <tr>\n",
       "      <th>4</th>\n",
       "      <td>Chhattisgarh</td>\n",
       "      <td>511</td>\n",
       "    </tr>\n",
       "    <tr>\n",
       "      <th>5</th>\n",
       "      <td>Delhi</td>\n",
       "      <td>574</td>\n",
       "    </tr>\n",
       "    <tr>\n",
       "      <th>6</th>\n",
       "      <td>Gujarat</td>\n",
       "      <td>1343</td>\n",
       "    </tr>\n",
       "    <tr>\n",
       "      <th>7</th>\n",
       "      <td>Haryana</td>\n",
       "      <td>980</td>\n",
       "    </tr>\n",
       "    <tr>\n",
       "      <th>8</th>\n",
       "      <td>Himachal_Pradesh</td>\n",
       "      <td>111</td>\n",
       "    </tr>\n",
       "    <tr>\n",
       "      <th>9</th>\n",
       "      <td>Jammu_and_Kashmir</td>\n",
       "      <td>283</td>\n",
       "    </tr>\n",
       "    <tr>\n",
       "      <th>10</th>\n",
       "      <td>Jharkhand</td>\n",
       "      <td>1195</td>\n",
       "    </tr>\n",
       "    <tr>\n",
       "      <th>11</th>\n",
       "      <td>Karnataka</td>\n",
       "      <td>1189</td>\n",
       "    </tr>\n",
       "    <tr>\n",
       "      <th>12</th>\n",
       "      <td>Kerala</td>\n",
       "      <td>970</td>\n",
       "    </tr>\n",
       "    <tr>\n",
       "      <th>13</th>\n",
       "      <td>Madhya_Pradesh</td>\n",
       "      <td>2180</td>\n",
       "    </tr>\n",
       "    <tr>\n",
       "      <th>14</th>\n",
       "      <td>Maharashtra</td>\n",
       "      <td>2895</td>\n",
       "    </tr>\n",
       "    <tr>\n",
       "      <th>15</th>\n",
       "      <td>Manipur</td>\n",
       "      <td>183</td>\n",
       "    </tr>\n",
       "    <tr>\n",
       "      <th>16</th>\n",
       "      <td>Mizoram</td>\n",
       "      <td>94</td>\n",
       "    </tr>\n",
       "    <tr>\n",
       "      <th>17</th>\n",
       "      <td>Odisha</td>\n",
       "      <td>664</td>\n",
       "    </tr>\n",
       "    <tr>\n",
       "      <th>18</th>\n",
       "      <td>Puducherry</td>\n",
       "      <td>167</td>\n",
       "    </tr>\n",
       "    <tr>\n",
       "      <th>19</th>\n",
       "      <td>Punjab</td>\n",
       "      <td>425</td>\n",
       "    </tr>\n",
       "    <tr>\n",
       "      <th>20</th>\n",
       "      <td>Rajasthan</td>\n",
       "      <td>1292</td>\n",
       "    </tr>\n",
       "    <tr>\n",
       "      <th>21</th>\n",
       "      <td>Sikkim</td>\n",
       "      <td>28</td>\n",
       "    </tr>\n",
       "    <tr>\n",
       "      <th>22</th>\n",
       "      <td>Tamil_Nadu</td>\n",
       "      <td>1706</td>\n",
       "    </tr>\n",
       "    <tr>\n",
       "      <th>23</th>\n",
       "      <td>Telangana</td>\n",
       "      <td>979</td>\n",
       "    </tr>\n",
       "    <tr>\n",
       "      <th>24</th>\n",
       "      <td>Tripura</td>\n",
       "      <td>136</td>\n",
       "    </tr>\n",
       "    <tr>\n",
       "      <th>25</th>\n",
       "      <td>Uttar_Pradesh</td>\n",
       "      <td>3440</td>\n",
       "    </tr>\n",
       "    <tr>\n",
       "      <th>26</th>\n",
       "      <td>Uttarakhand</td>\n",
       "      <td>133</td>\n",
       "    </tr>\n",
       "    <tr>\n",
       "      <th>27</th>\n",
       "      <td>West_Bengal</td>\n",
       "      <td>3009</td>\n",
       "    </tr>\n",
       "  </tbody>\n",
       "</table>\n",
       "</div>"
      ],
      "text/plain": [
       "                STATE  Total_Defaulters\n",
       "0      Andhra_Pradesh              2935\n",
       "1               Assam               930\n",
       "2               Bihar              2583\n",
       "3          Chandigarh                61\n",
       "4        Chhattisgarh               511\n",
       "5               Delhi               574\n",
       "6             Gujarat              1343\n",
       "7             Haryana               980\n",
       "8    Himachal_Pradesh               111\n",
       "9   Jammu_and_Kashmir               283\n",
       "10          Jharkhand              1195\n",
       "11          Karnataka              1189\n",
       "12             Kerala               970\n",
       "13     Madhya_Pradesh              2180\n",
       "14        Maharashtra              2895\n",
       "15            Manipur               183\n",
       "16            Mizoram                94\n",
       "17             Odisha               664\n",
       "18         Puducherry               167\n",
       "19             Punjab               425\n",
       "20          Rajasthan              1292\n",
       "21             Sikkim                28\n",
       "22         Tamil_Nadu              1706\n",
       "23          Telangana               979\n",
       "24            Tripura               136\n",
       "25      Uttar_Pradesh              3440\n",
       "26        Uttarakhand               133\n",
       "27        West_Bengal              3009"
      ]
     },
     "execution_count": 30,
     "metadata": {},
     "output_type": "execute_result"
    }
   ],
   "source": [
    "df1 = df.loc[df['Risk_Flag'] == 1].groupby(['STATE','Risk_Flag']).count()\n",
    "df1.rename(columns={'Id':'Total_Defaulters'},inplace=True)\n",
    "df1.reset_index(inplace=True)\n",
    "df1[['STATE','Total_Defaulters']]"
   ]
  },
  {
   "cell_type": "code",
   "execution_count": 31,
   "id": "699041da",
   "metadata": {
    "execution": {
     "iopub.execute_input": "2021-11-01T12:38:57.617168Z",
     "iopub.status.busy": "2021-11-01T12:38:57.616546Z",
     "iopub.status.idle": "2021-11-01T12:38:57.809804Z",
     "shell.execute_reply": "2021-11-01T12:38:57.809257Z",
     "shell.execute_reply.started": "2021-11-01T12:32:31.025772Z"
    },
    "papermill": {
     "duration": 0.266804,
     "end_time": "2021-11-01T12:38:57.809952",
     "exception": false,
     "start_time": "2021-11-01T12:38:57.543148",
     "status": "completed"
    },
    "tags": []
   },
   "outputs": [],
   "source": [
    "df2 = df.groupby('STATE').count()\n",
    "df2.rename(columns={'Id':'Total_Loans'},inplace=True)\n",
    "df2.reset_index(inplace=True)"
   ]
  },
  {
   "cell_type": "code",
   "execution_count": 32,
   "id": "a9a4d782",
   "metadata": {
    "execution": {
     "iopub.execute_input": "2021-11-01T12:38:57.959258Z",
     "iopub.status.busy": "2021-11-01T12:38:57.958666Z",
     "iopub.status.idle": "2021-11-01T12:38:58.252132Z",
     "shell.execute_reply": "2021-11-01T12:38:58.251595Z",
     "shell.execute_reply.started": "2021-11-01T12:32:31.23652Z"
    },
    "papermill": {
     "duration": 0.371285,
     "end_time": "2021-11-01T12:38:58.252264",
     "exception": false,
     "start_time": "2021-11-01T12:38:57.880979",
     "status": "completed"
    },
    "tags": []
   },
   "outputs": [
    {
     "data": {
      "image/png": "[encoded data removed]",
      "text/plain": [
       "<Figure size 720x576 with 1 Axes>"
      ]
     },
     "metadata": {
      "needs_background": "light"
     },
     "output_type": "display_data"
    }
   ],
   "source": [
    "df_total_loans = df2[['STATE','Total_Loans']].sort_values(by='Total_Loans',ascending=False)[:10]\n",
    "df_total_loans.plot(kind='bar',x='STATE',figsize=(10,8))\n",
    "plt.title('Top 10 States from where most loans were taken')\n",
    "plt.xlabel('Number of Loans')\n",
    "plt.ylabel('State')\n",
    "for index,value in enumerate(df_total_loans['Total_Loans'][:10]):\n",
    "    plt.text(index-0.28,value+100,str(value))\n",
    "plt.show()"
   ]
  },
  {
   "cell_type": "code",
   "execution_count": 33,
   "id": "69f483a5",
   "metadata": {
    "execution": {
     "iopub.execute_input": "2021-11-01T12:38:58.400657Z",
     "iopub.status.busy": "2021-11-01T12:38:58.399709Z",
     "iopub.status.idle": "2021-11-01T12:38:58.692056Z",
     "shell.execute_reply": "2021-11-01T12:38:58.692633Z",
     "shell.execute_reply.started": "2021-11-01T12:32:31.560815Z"
    },
    "papermill": {
     "duration": 0.368378,
     "end_time": "2021-11-01T12:38:58.692796",
     "exception": false,
     "start_time": "2021-11-01T12:38:58.324418",
     "status": "completed"
    },
    "tags": []
   },
   "outputs": [
    {
     "data": {
      "image/png": "[encoded data removed]",
      "text/plain": [
       "<Figure size 720x576 with 1 Axes>"
      ]
     },
     "metadata": {
      "needs_background": "light"
     },
     "output_type": "display_data"
    }
   ],
   "source": [
    "defaulter_percent_per_state = (df1['Total_Defaulters']/df2['Total_Loans']).round(4)*100\n",
    "state_defaulters_percentage=pd.DataFrame(\n",
    "    data=zip(df1['STATE'],defaulter_percent_per_state),\n",
    "    columns=['STATE','Defaulter_Percentage']\n",
    ")\n",
    "df_dps = state_defaulters_percentage.sort_values(by='Defaulter_Percentage',ascending=False)[:10]\n",
    "df_dps.plot(kind='bar',figsize=(10,8),x='STATE')\n",
    "plt.title('Top 10 States in Defaulting Loan')\n",
    "plt.ylabel('% of Loans Defaults')\n",
    "plt.xlabel('State')\n",
    "for index,value in enumerate(df_dps['Defaulter_Percentage'][:10]):\n",
    "    plt.text(index-0.2,value+0.2,str(round(value,2)))\n",
    "plt.legend(loc='best')\n",
    "plt.show()"
   ]
  },
  {
   "cell_type": "code",
   "execution_count": 34,
   "id": "cd25b9b1",
   "metadata": {
    "execution": {
     "iopub.execute_input": "2021-11-01T12:38:58.853621Z",
     "iopub.status.busy": "2021-11-01T12:38:58.852884Z",
     "iopub.status.idle": "2021-11-01T12:38:59.049012Z",
     "shell.execute_reply": "2021-11-01T12:38:59.049495Z",
     "shell.execute_reply.started": "2021-11-01T12:32:31.881302Z"
    },
    "papermill": {
     "duration": 0.283938,
     "end_time": "2021-11-01T12:38:59.049676",
     "exception": false,
     "start_time": "2021-11-01T12:38:58.765738",
     "status": "completed"
    },
    "tags": []
   },
   "outputs": [
    {
     "data": {
      "text/html": [
       "<div>\n",
       "<style scoped>\n",
       "    .dataframe tbody tr th:only-of-type {\n",
       "        vertical-align: middle;\n",
       "    }\n",
       "\n",
       "    .dataframe tbody tr th {\n",
       "        vertical-align: top;\n",
       "    }\n",
       "\n",
       "    .dataframe thead th {\n",
       "        text-align: right;\n",
       "    }\n",
       "</style>\n",
       "<table border=\"1\" class=\"dataframe\">\n",
       "  <thead>\n",
       "    <tr style=\"text-align: right;\">\n",
       "      <th></th>\n",
       "      <th>CITY</th>\n",
       "      <th>Total_Loans</th>\n",
       "    </tr>\n",
       "  </thead>\n",
       "  <tbody>\n",
       "    <tr>\n",
       "      <th>0</th>\n",
       "      <td>Adoni</td>\n",
       "      <td>953</td>\n",
       "    </tr>\n",
       "    <tr>\n",
       "      <th>1</th>\n",
       "      <td>Agartala</td>\n",
       "      <td>809</td>\n",
       "    </tr>\n",
       "    <tr>\n",
       "      <th>2</th>\n",
       "      <td>Agra</td>\n",
       "      <td>1012</td>\n",
       "    </tr>\n",
       "    <tr>\n",
       "      <th>3</th>\n",
       "      <td>Ahmedabad</td>\n",
       "      <td>649</td>\n",
       "    </tr>\n",
       "    <tr>\n",
       "      <th>4</th>\n",
       "      <td>Ahmednagar</td>\n",
       "      <td>645</td>\n",
       "    </tr>\n",
       "    <tr>\n",
       "      <th>...</th>\n",
       "      <td>...</td>\n",
       "      <td>...</td>\n",
       "    </tr>\n",
       "    <tr>\n",
       "      <th>311</th>\n",
       "      <td>Vijayanagaram</td>\n",
       "      <td>1259</td>\n",
       "    </tr>\n",
       "    <tr>\n",
       "      <th>312</th>\n",
       "      <td>Vijayawada</td>\n",
       "      <td>1172</td>\n",
       "    </tr>\n",
       "    <tr>\n",
       "      <th>313</th>\n",
       "      <td>Visakhapatnam</td>\n",
       "      <td>971</td>\n",
       "    </tr>\n",
       "    <tr>\n",
       "      <th>314</th>\n",
       "      <td>Warangal</td>\n",
       "      <td>459</td>\n",
       "    </tr>\n",
       "    <tr>\n",
       "      <th>315</th>\n",
       "      <td>Yamunanagar</td>\n",
       "      <td>659</td>\n",
       "    </tr>\n",
       "  </tbody>\n",
       "</table>\n",
       "<p>316 rows × 2 columns</p>\n",
       "</div>"
      ],
      "text/plain": [
       "              CITY  Total_Loans\n",
       "0            Adoni          953\n",
       "1         Agartala          809\n",
       "2             Agra         1012\n",
       "3        Ahmedabad          649\n",
       "4       Ahmednagar          645\n",
       "..             ...          ...\n",
       "311  Vijayanagaram         1259\n",
       "312     Vijayawada         1172\n",
       "313  Visakhapatnam          971\n",
       "314       Warangal          459\n",
       "315    Yamunanagar          659\n",
       "\n",
       "[316 rows x 2 columns]"
      ]
     },
     "execution_count": 34,
     "metadata": {},
     "output_type": "execute_result"
    }
   ],
   "source": [
    "df3 = df.groupby('CITY').count()\n",
    "df3.rename(columns={'Id':'Total_Loans'},inplace=True)\n",
    "df3.reset_index(inplace=True)\n",
    "df3[['CITY','Total_Loans']]"
   ]
  },
  {
   "cell_type": "code",
   "execution_count": 35,
   "id": "71b404b6",
   "metadata": {
    "execution": {
     "iopub.execute_input": "2021-11-01T12:38:59.206606Z",
     "iopub.status.busy": "2021-11-01T12:38:59.205862Z",
     "iopub.status.idle": "2021-11-01T12:38:59.496132Z",
     "shell.execute_reply": "2021-11-01T12:38:59.496599Z",
     "shell.execute_reply.started": "2021-11-01T12:32:32.109624Z"
    },
    "papermill": {
     "duration": 0.372828,
     "end_time": "2021-11-01T12:38:59.496769",
     "exception": false,
     "start_time": "2021-11-01T12:38:59.123941",
     "status": "completed"
    },
    "tags": []
   },
   "outputs": [
    {
     "data": {
      "image/png": "[encoded data removed]",
      "text/plain": [
       "<Figure size 576x432 with 1 Axes>"
      ]
     },
     "metadata": {
      "needs_background": "light"
     },
     "output_type": "display_data"
    }
   ],
   "source": [
    "#top10 cities in number of loans\n",
    "\n",
    "df3_ = df3[['CITY','Total_Loans']].sort_values(\n",
    "                        by='Total_Loans',ascending=False)[:10]\n",
    "df3_.plot(kind='bar',x='CITY',figsize=(8,6))\n",
    "plt.title('Top 10 Cities with highest number of Loans taken')\n",
    "plt.xlabel('City')\n",
    "plt.ylabel('Number of Loan')\n",
    "for index,value in enumerate(df3_['Total_Loans']):\n",
    "    plt.text(index-0.25,value+30,str(int(value)))\n",
    "plt.legend(loc='best')\n",
    "plt.show()"
   ]
  },
  {
   "cell_type": "code",
   "execution_count": 36,
   "id": "2b764886",
   "metadata": {
    "execution": {
     "iopub.execute_input": "2021-11-01T12:38:59.649973Z",
     "iopub.status.busy": "2021-11-01T12:38:59.649314Z",
     "iopub.status.idle": "2021-11-01T12:38:59.695521Z",
     "shell.execute_reply": "2021-11-01T12:38:59.695983Z",
     "shell.execute_reply.started": "2021-11-01T12:32:32.439339Z"
    },
    "papermill": {
     "duration": 0.124346,
     "end_time": "2021-11-01T12:38:59.696158",
     "exception": false,
     "start_time": "2021-11-01T12:38:59.571812",
     "status": "completed"
    },
    "tags": []
   },
   "outputs": [
    {
     "data": {
      "text/html": [
       "<div>\n",
       "<style scoped>\n",
       "    .dataframe tbody tr th:only-of-type {\n",
       "        vertical-align: middle;\n",
       "    }\n",
       "\n",
       "    .dataframe tbody tr th {\n",
       "        vertical-align: top;\n",
       "    }\n",
       "\n",
       "    .dataframe thead th {\n",
       "        text-align: right;\n",
       "    }\n",
       "</style>\n",
       "<table border=\"1\" class=\"dataframe\">\n",
       "  <thead>\n",
       "    <tr style=\"text-align: right;\">\n",
       "      <th></th>\n",
       "      <th>CITY</th>\n",
       "      <th>Total_Defaulters</th>\n",
       "    </tr>\n",
       "  </thead>\n",
       "  <tbody>\n",
       "    <tr>\n",
       "      <th>0</th>\n",
       "      <td>Adoni</td>\n",
       "      <td>103</td>\n",
       "    </tr>\n",
       "    <tr>\n",
       "      <th>1</th>\n",
       "      <td>Agartala</td>\n",
       "      <td>136</td>\n",
       "    </tr>\n",
       "    <tr>\n",
       "      <th>2</th>\n",
       "      <td>Agra</td>\n",
       "      <td>81</td>\n",
       "    </tr>\n",
       "    <tr>\n",
       "      <th>3</th>\n",
       "      <td>Ahmedabad</td>\n",
       "      <td>133</td>\n",
       "    </tr>\n",
       "    <tr>\n",
       "      <th>4</th>\n",
       "      <td>Ahmednagar</td>\n",
       "      <td>38</td>\n",
       "    </tr>\n",
       "    <tr>\n",
       "      <th>...</th>\n",
       "      <td>...</td>\n",
       "      <td>...</td>\n",
       "    </tr>\n",
       "    <tr>\n",
       "      <th>311</th>\n",
       "      <td>Vijayanagaram</td>\n",
       "      <td>149</td>\n",
       "    </tr>\n",
       "    <tr>\n",
       "      <th>312</th>\n",
       "      <td>Vijayawada</td>\n",
       "      <td>147</td>\n",
       "    </tr>\n",
       "    <tr>\n",
       "      <th>313</th>\n",
       "      <td>Visakhapatnam</td>\n",
       "      <td>141</td>\n",
       "    </tr>\n",
       "    <tr>\n",
       "      <th>314</th>\n",
       "      <td>Warangal</td>\n",
       "      <td>25</td>\n",
       "    </tr>\n",
       "    <tr>\n",
       "      <th>315</th>\n",
       "      <td>Yamunanagar</td>\n",
       "      <td>96</td>\n",
       "    </tr>\n",
       "  </tbody>\n",
       "</table>\n",
       "<p>316 rows × 2 columns</p>\n",
       "</div>"
      ],
      "text/plain": [
       "              CITY  Total_Defaulters\n",
       "0            Adoni               103\n",
       "1         Agartala               136\n",
       "2             Agra                81\n",
       "3        Ahmedabad               133\n",
       "4       Ahmednagar                38\n",
       "..             ...               ...\n",
       "311  Vijayanagaram               149\n",
       "312     Vijayawada               147\n",
       "313  Visakhapatnam               141\n",
       "314       Warangal                25\n",
       "315    Yamunanagar                96\n",
       "\n",
       "[316 rows x 2 columns]"
      ]
     },
     "execution_count": 36,
     "metadata": {},
     "output_type": "execute_result"
    }
   ],
   "source": [
    "df4 = df.loc[df['Risk_Flag'] == 1].groupby('CITY').count()\n",
    "df4.rename(columns={'Id':'Total_Defaulters'},inplace=True)\n",
    "df4.reset_index(inplace=True)\n",
    "df4[['CITY','Total_Defaulters']]"
   ]
  },
  {
   "cell_type": "code",
   "execution_count": 37,
   "id": "21e67700",
   "metadata": {
    "execution": {
     "iopub.execute_input": "2021-11-01T12:38:59.865207Z",
     "iopub.status.busy": "2021-11-01T12:38:59.858061Z",
     "iopub.status.idle": "2021-11-01T12:38:59.868285Z",
     "shell.execute_reply": "2021-11-01T12:38:59.868873Z",
     "shell.execute_reply.started": "2021-11-01T12:32:32.507016Z"
    },
    "papermill": {
     "duration": 0.095885,
     "end_time": "2021-11-01T12:38:59.869038",
     "exception": false,
     "start_time": "2021-11-01T12:38:59.773153",
     "status": "completed"
    },
    "tags": []
   },
   "outputs": [
    {
     "data": {
      "text/html": [
       "<div>\n",
       "<style scoped>\n",
       "    .dataframe tbody tr th:only-of-type {\n",
       "        vertical-align: middle;\n",
       "    }\n",
       "\n",
       "    .dataframe tbody tr th {\n",
       "        vertical-align: top;\n",
       "    }\n",
       "\n",
       "    .dataframe thead th {\n",
       "        text-align: right;\n",
       "    }\n",
       "</style>\n",
       "<table border=\"1\" class=\"dataframe\">\n",
       "  <thead>\n",
       "    <tr style=\"text-align: right;\">\n",
       "      <th></th>\n",
       "      <th>CITY</th>\n",
       "      <th>Defaulter_Percentage</th>\n",
       "    </tr>\n",
       "  </thead>\n",
       "  <tbody>\n",
       "    <tr>\n",
       "      <th>0</th>\n",
       "      <td>Adoni</td>\n",
       "      <td>10.81</td>\n",
       "    </tr>\n",
       "    <tr>\n",
       "      <th>1</th>\n",
       "      <td>Agartala</td>\n",
       "      <td>16.81</td>\n",
       "    </tr>\n",
       "    <tr>\n",
       "      <th>2</th>\n",
       "      <td>Agra</td>\n",
       "      <td>8.00</td>\n",
       "    </tr>\n",
       "    <tr>\n",
       "      <th>3</th>\n",
       "      <td>Ahmedabad</td>\n",
       "      <td>20.49</td>\n",
       "    </tr>\n",
       "    <tr>\n",
       "      <th>4</th>\n",
       "      <td>Ahmednagar</td>\n",
       "      <td>5.89</td>\n",
       "    </tr>\n",
       "    <tr>\n",
       "      <th>...</th>\n",
       "      <td>...</td>\n",
       "      <td>...</td>\n",
       "    </tr>\n",
       "    <tr>\n",
       "      <th>311</th>\n",
       "      <td>Vijayanagaram</td>\n",
       "      <td>11.83</td>\n",
       "    </tr>\n",
       "    <tr>\n",
       "      <th>312</th>\n",
       "      <td>Vijayawada</td>\n",
       "      <td>12.54</td>\n",
       "    </tr>\n",
       "    <tr>\n",
       "      <th>313</th>\n",
       "      <td>Visakhapatnam</td>\n",
       "      <td>14.52</td>\n",
       "    </tr>\n",
       "    <tr>\n",
       "      <th>314</th>\n",
       "      <td>Warangal</td>\n",
       "      <td>5.45</td>\n",
       "    </tr>\n",
       "    <tr>\n",
       "      <th>315</th>\n",
       "      <td>Yamunanagar</td>\n",
       "      <td>14.57</td>\n",
       "    </tr>\n",
       "  </tbody>\n",
       "</table>\n",
       "<p>316 rows × 2 columns</p>\n",
       "</div>"
      ],
      "text/plain": [
       "              CITY  Defaulter_Percentage\n",
       "0            Adoni                 10.81\n",
       "1         Agartala                 16.81\n",
       "2             Agra                  8.00\n",
       "3        Ahmedabad                 20.49\n",
       "4       Ahmednagar                  5.89\n",
       "..             ...                   ...\n",
       "311  Vijayanagaram                 11.83\n",
       "312     Vijayawada                 12.54\n",
       "313  Visakhapatnam                 14.52\n",
       "314       Warangal                  5.45\n",
       "315    Yamunanagar                 14.57\n",
       "\n",
       "[316 rows x 2 columns]"
      ]
     },
     "execution_count": 37,
     "metadata": {},
     "output_type": "execute_result"
    }
   ],
   "source": [
    "defaulter_percent_per_city = (df4['Total_Defaulters']/df3['Total_Loans']).round(4)*100\n",
    "city_defaulters_percentage=pd.DataFrame(\n",
    "    data=zip(df3['CITY'],defaulter_percent_per_city),\n",
    "    columns=['CITY','Defaulter_Percentage']\n",
    ")\n",
    "city_defaulters_percentage"
   ]
  },
  {
   "cell_type": "code",
   "execution_count": 38,
   "id": "d82157b8",
   "metadata": {
    "execution": {
     "iopub.execute_input": "2021-11-01T12:39:00.045808Z",
     "iopub.status.busy": "2021-11-01T12:39:00.044790Z",
     "iopub.status.idle": "2021-11-01T12:39:00.315268Z",
     "shell.execute_reply": "2021-11-01T12:39:00.314691Z",
     "shell.execute_reply.started": "2021-11-01T12:32:32.541554Z"
    },
    "papermill": {
     "duration": 0.368991,
     "end_time": "2021-11-01T12:39:00.315417",
     "exception": false,
     "start_time": "2021-11-01T12:38:59.946426",
     "status": "completed"
    },
    "tags": []
   },
   "outputs": [
    {
     "data": {
      "image/png": "[encoded data removed]",
      "text/plain": [
       "<Figure size 720x432 with 1 Axes>"
      ]
     },
     "metadata": {
      "needs_background": "light"
     },
     "output_type": "display_data"
    }
   ],
   "source": [
    "city_defaulters_percentage.sort_values(by='Defaulter_Percentage',ascending=False)[:10].plot(kind='bar',x='CITY',figsize=(10,6))\n",
    "plt.title('Top 10 Cities in Defaulting Loans')\n",
    "plt.xlabel('City')\n",
    "plt.ylabel('% of Loan Defaults')\n",
    "plt.legend(loc='best')\n",
    "top_10_vals = city_defaulters_percentage['Defaulter_Percentage'].sort_values(ascending=False)[:10]\n",
    "for index,value in enumerate(top_10_vals):\n",
    "    plt.text(index-0.2,value+0.5,str(round(value,2)))\n",
    "plt.show()"
   ]
  },
  {
   "cell_type": "code",
   "execution_count": 39,
   "id": "e5a83614",
   "metadata": {
    "execution": {
     "iopub.execute_input": "2021-11-01T12:39:00.498856Z",
     "iopub.status.busy": "2021-11-01T12:39:00.483524Z",
     "iopub.status.idle": "2021-11-01T12:39:00.988618Z",
     "shell.execute_reply": "2021-11-01T12:39:00.988107Z",
     "shell.execute_reply.started": "2021-11-01T12:32:32.878194Z"
    },
    "papermill": {
     "duration": 0.595949,
     "end_time": "2021-11-01T12:39:00.988768",
     "exception": false,
     "start_time": "2021-11-01T12:39:00.392819",
     "status": "completed"
    },
    "tags": []
   },
   "outputs": [
    {
     "data": {
      "image/png": "[encoded data removed]",
      "text/plain": [
       "<Figure size 720x720 with 1 Axes>"
      ]
     },
     "metadata": {
      "needs_background": "light"
     },
     "output_type": "display_data"
    }
   ],
   "source": [
    "df_profession_loan_count = df.groupby('Profession').count()['Id'].sort_values(ascending=False)\n",
    "df_plc = df_profession_loan_count.reset_index()\n",
    "df_plc.rename(columns= {'Id':'Loan_Count'},inplace=True)\n",
    "df_plc[:10].plot(kind='bar',x='Profession',figsize=(10,10))\n",
    "plt.legend(loc='best')\n",
    "plt.title('Top 10 Professions who took Loan')\n",
    "plt.xlabel('Loan Count')\n",
    "plt.ylabel('Profession')\n",
    "for index,value in enumerate(df_plc['Loan_Count'][:10]):\n",
    "    plt.text(index-0.2,value+50,str(value))\n",
    "plt.show()   "
   ]
  },
  {
   "cell_type": "code",
   "execution_count": 40,
   "id": "51fb8e56",
   "metadata": {
    "execution": {
     "iopub.execute_input": "2021-11-01T12:39:01.156868Z",
     "iopub.status.busy": "2021-11-01T12:39:01.148307Z",
     "iopub.status.idle": "2021-11-01T12:39:01.219849Z",
     "shell.execute_reply": "2021-11-01T12:39:01.218787Z",
     "shell.execute_reply.started": "2021-11-01T12:32:33.423838Z"
    },
    "papermill": {
     "duration": 0.152709,
     "end_time": "2021-11-01T12:39:01.220031",
     "exception": false,
     "start_time": "2021-11-01T12:39:01.067322",
     "status": "completed"
    },
    "tags": []
   },
   "outputs": [],
   "source": [
    "profession = df.groupby(['Profession']).mean()[['Income','Risk_Flag']]"
   ]
  },
  {
   "cell_type": "code",
   "execution_count": 41,
   "id": "e555df99",
   "metadata": {
    "execution": {
     "iopub.execute_input": "2021-11-01T12:39:01.397703Z",
     "iopub.status.busy": "2021-11-01T12:39:01.392679Z",
     "iopub.status.idle": "2021-11-01T12:39:01.737371Z",
     "shell.execute_reply": "2021-11-01T12:39:01.736882Z",
     "shell.execute_reply.started": "2021-11-01T12:32:33.517158Z"
    },
    "papermill": {
     "duration": 0.437832,
     "end_time": "2021-11-01T12:39:01.737508",
     "exception": false,
     "start_time": "2021-11-01T12:39:01.299676",
     "status": "completed"
    },
    "tags": []
   },
   "outputs": [
    {
     "data": {
      "image/png": "[encoded data removed]",
      "text/plain": [
       "<Figure size 720x720 with 1 Axes>"
      ]
     },
     "metadata": {
      "needs_background": "light"
     },
     "output_type": "display_data"
    }
   ],
   "source": [
    "#plotting top10 profession_group with higher income\n",
    "\n",
    "profession_top10_income = profession['Income'].sort_values(ascending=False)[:15]\n",
    "profession_top10_income.plot(kind='barh',figsize=(10,10))\n",
    "plt.title('Top 15 Profession with higher Income (mean)')\n",
    "plt.xlabel('Profession')\n",
    "plt.ylabel('Income')\n",
    "\n",
    "for index,value in enumerate(profession_top10_income):\n",
    "    plt.text(value-900000,index-0.1,str(int(value)))\n",
    "plt.legend(loc='best')\n",
    "plt.show()"
   ]
  },
  {
   "cell_type": "code",
   "execution_count": 42,
   "id": "0d839552",
   "metadata": {
    "execution": {
     "iopub.execute_input": "2021-11-01T12:39:01.905218Z",
     "iopub.status.busy": "2021-11-01T12:39:01.904507Z",
     "iopub.status.idle": "2021-11-01T12:39:02.422177Z",
     "shell.execute_reply": "2021-11-01T12:39:02.422633Z",
     "shell.execute_reply.started": "2021-11-01T12:32:34.161246Z"
    },
    "papermill": {
     "duration": 0.605247,
     "end_time": "2021-11-01T12:39:02.422849",
     "exception": false,
     "start_time": "2021-11-01T12:39:01.817602",
     "status": "completed"
    },
    "tags": []
   },
   "outputs": [
    {
     "data": {
      "image/png": "[encoded data removed]",
      "text/plain": [
       "<Figure size 720x720 with 1 Axes>"
      ]
     },
     "metadata": {
      "needs_background": "light"
     },
     "output_type": "display_data"
    }
   ],
   "source": [
    "df_ = df.loc[df['Risk_Flag'] == 1].groupby(['Profession']).mean()[['Income']].sort_values(by='Income',ascending=False)\n",
    "df_.sort_values(by='Income',ascending=False)[:15].plot(kind='barh',figsize=(10,10))\n",
    "plt.title('Mean Income of Top 15 Loan Defaulting Professions') \n",
    "plt.xlabel('Income')\n",
    "plt.ylabel('Profession')\n",
    "for index,value in enumerate(df_['Income'][:15]):\n",
    "    plt.text(value-900000,index-0.1,str(int(value)))\n",
    "\n",
    "plt.legend(loc='best')\n",
    "plt.show()"
   ]
  },
  {
   "cell_type": "markdown",
   "id": "9d14c30f",
   "metadata": {
    "papermill": {
     "duration": 0.082022,
     "end_time": "2021-11-01T12:39:02.587906",
     "exception": false,
     "start_time": "2021-11-01T12:39:02.505884",
     "status": "completed"
    },
    "tags": []
   },
   "source": [
    "# Resampling the Data with Random Oversampler"
   ]
  },
  {
   "cell_type": "code",
   "execution_count": 43,
   "id": "0c1d3fa0",
   "metadata": {
    "execution": {
     "iopub.execute_input": "2021-11-01T12:39:02.755737Z",
     "iopub.status.busy": "2021-11-01T12:39:02.755080Z",
     "iopub.status.idle": "2021-11-01T12:39:03.174974Z",
     "shell.execute_reply": "2021-11-01T12:39:03.175453Z",
     "shell.execute_reply.started": "2021-11-01T12:32:34.573639Z"
    },
    "papermill": {
     "duration": 0.505589,
     "end_time": "2021-11-01T12:39:03.175667",
     "exception": false,
     "start_time": "2021-11-01T12:39:02.670078",
     "status": "completed"
    },
    "tags": []
   },
   "outputs": [],
   "source": [
    "from imblearn.over_sampling import RandomOverSampler"
   ]
  },
  {
   "cell_type": "code",
   "execution_count": 44,
   "id": "48833e0f",
   "metadata": {
    "execution": {
     "iopub.execute_input": "2021-11-01T12:39:03.342458Z",
     "iopub.status.busy": "2021-11-01T12:39:03.341858Z",
     "iopub.status.idle": "2021-11-01T12:39:03.362046Z",
     "shell.execute_reply": "2021-11-01T12:39:03.361461Z",
     "shell.execute_reply.started": "2021-11-01T12:32:35.14632Z"
    },
    "papermill": {
     "duration": 0.104799,
     "end_time": "2021-11-01T12:39:03.362189",
     "exception": false,
     "start_time": "2021-11-01T12:39:03.257390",
     "status": "completed"
    },
    "tags": []
   },
   "outputs": [],
   "source": [
    "sampler = RandomOverSampler(random_state=42,sampling_strategy=0.45)\n",
    "X = df.iloc[:,:-1]\n",
    "y = df['Risk_Flag']"
   ]
  },
  {
   "cell_type": "code",
   "execution_count": 45,
   "id": "7fa1a84e",
   "metadata": {
    "execution": {
     "iopub.execute_input": "2021-11-01T12:39:03.530866Z",
     "iopub.status.busy": "2021-11-01T12:39:03.530184Z",
     "iopub.status.idle": "2021-11-01T12:39:04.275811Z",
     "shell.execute_reply": "2021-11-01T12:39:04.275232Z",
     "shell.execute_reply.started": "2021-11-01T12:32:35.180967Z"
    },
    "papermill": {
     "duration": 0.831068,
     "end_time": "2021-11-01T12:39:04.275947",
     "exception": false,
     "start_time": "2021-11-01T12:39:03.444879",
     "status": "completed"
    },
    "tags": []
   },
   "outputs": [],
   "source": [
    "X_sampled,y_sampled = sampler.fit_resample(X,y)"
   ]
  },
  {
   "cell_type": "code",
   "execution_count": 46,
   "id": "47bcf243",
   "metadata": {
    "execution": {
     "iopub.execute_input": "2021-11-01T12:39:04.442909Z",
     "iopub.status.busy": "2021-11-01T12:39:04.441942Z",
     "iopub.status.idle": "2021-11-01T12:39:04.548721Z",
     "shell.execute_reply": "2021-11-01T12:39:04.549175Z",
     "shell.execute_reply.started": "2021-11-01T12:32:36.226615Z"
    },
    "papermill": {
     "duration": 0.191998,
     "end_time": "2021-11-01T12:39:04.549347",
     "exception": false,
     "start_time": "2021-11-01T12:39:04.357349",
     "status": "completed"
    },
    "tags": []
   },
   "outputs": [
    {
     "name": "stdout",
     "output_type": "stream",
     "text": [
      "Counter({0: 221004, 1: 30996}) Counter({0: 221004, 1: 99451})\n"
     ]
    }
   ],
   "source": [
    "from collections import Counter\n",
    "print(Counter(y),Counter(y_sampled))"
   ]
  },
  {
   "cell_type": "code",
   "execution_count": 47,
   "id": "03fb36dc",
   "metadata": {
    "execution": {
     "iopub.execute_input": "2021-11-01T12:39:04.717416Z",
     "iopub.status.busy": "2021-11-01T12:39:04.716729Z",
     "iopub.status.idle": "2021-11-01T12:39:04.758527Z",
     "shell.execute_reply": "2021-11-01T12:39:04.759066Z",
     "shell.execute_reply.started": "2021-11-01T12:32:36.339034Z"
    },
    "papermill": {
     "duration": 0.12699,
     "end_time": "2021-11-01T12:39:04.759246",
     "exception": false,
     "start_time": "2021-11-01T12:39:04.632256",
     "status": "completed"
    },
    "tags": []
   },
   "outputs": [],
   "source": [
    "df_ = pd.concat([X_sampled,y_sampled],axis=1)"
   ]
  },
  {
   "cell_type": "markdown",
   "id": "a864999a",
   "metadata": {
    "papermill": {
     "duration": 0.081215,
     "end_time": "2021-11-01T12:39:04.922876",
     "exception": false,
     "start_time": "2021-11-01T12:39:04.841661",
     "status": "completed"
    },
    "tags": []
   },
   "source": [
    "#### Now we can see that the classes are more even which makes easier for our model to predict loan defaulters "
   ]
  },
  {
   "cell_type": "code",
   "execution_count": 48,
   "id": "21dc04e8",
   "metadata": {
    "execution": {
     "iopub.execute_input": "2021-11-01T12:39:05.090087Z",
     "iopub.status.busy": "2021-11-01T12:39:05.089338Z",
     "iopub.status.idle": "2021-11-01T12:39:05.795598Z",
     "shell.execute_reply": "2021-11-01T12:39:05.795095Z",
     "shell.execute_reply.started": "2021-11-01T12:32:36.401013Z"
    },
    "papermill": {
     "duration": 0.791314,
     "end_time": "2021-11-01T12:39:05.795746",
     "exception": false,
     "start_time": "2021-11-01T12:39:05.004432",
     "status": "completed"
    },
    "tags": []
   },
   "outputs": [
    {
     "data": {
      "text/plain": [
       "<matplotlib.legend.Legend at 0x7ff965532c10>"
      ]
     },
     "execution_count": 48,
     "metadata": {},
     "output_type": "execute_result"
    },
    {
     "data": {
      "image/png": "[encoded data removed]",
      "text/plain": [
       "<Figure size 720x720 with 2 Axes>"
      ]
     },
     "metadata": {},
     "output_type": "display_data"
    }
   ],
   "source": [
    "fig = plt.figure()\n",
    "ax1 = fig.add_subplot(121)\n",
    "plt.title('Defaulter % Before Sampling')\n",
    "df.groupby('Risk_Flag').count()['Id'].plot(kind='pie',labels=['Non-Defaulter','Defaulter'],autopct='%1.1f%%',ax=ax1,figsize=(10,10))\n",
    "plt.xlabel('% of Defaulters')\n",
    "plt.ylabel('')\n",
    "\n",
    "ax2 = fig.add_subplot(122)\n",
    "plt.title('Defaulter % After Sampling')\n",
    "df_.groupby('Risk_Flag').count()['Id'].plot(kind='pie',labels=['Non-Defaulter','Defaulter'],autopct='%1.1f%%',ax=ax2,figsize=(10,10))\n",
    "plt.xlabel('% of Defaulters')\n",
    "plt.ylabel('')\n",
    "plt.legend(loc='right',bbox_to_anchor=(0.7,0,1,1))\n"
   ]
  },
  {
   "cell_type": "markdown",
   "id": "4bf6c391",
   "metadata": {
    "papermill": {
     "duration": 0.08269,
     "end_time": "2021-11-01T12:39:05.964070",
     "exception": false,
     "start_time": "2021-11-01T12:39:05.881380",
     "status": "completed"
    },
    "tags": []
   },
   "source": [
    "# Encoding the Categorical data "
   ]
  },
  {
   "cell_type": "code",
   "execution_count": 49,
   "id": "4b4aa798",
   "metadata": {
    "execution": {
     "iopub.execute_input": "2021-11-01T12:39:06.137850Z",
     "iopub.status.busy": "2021-11-01T12:39:06.137179Z",
     "iopub.status.idle": "2021-11-01T12:39:06.138986Z",
     "shell.execute_reply": "2021-11-01T12:39:06.139569Z",
     "shell.execute_reply.started": "2021-11-01T12:32:37.193543Z"
    },
    "papermill": {
     "duration": 0.091371,
     "end_time": "2021-11-01T12:39:06.139742",
     "exception": false,
     "start_time": "2021-11-01T12:39:06.048371",
     "status": "completed"
    },
    "tags": []
   },
   "outputs": [],
   "source": [
    "from sklearn.preprocessing import LabelEncoder"
   ]
  },
  {
   "cell_type": "code",
   "execution_count": 50,
   "id": "75bddcb2",
   "metadata": {
    "execution": {
     "iopub.execute_input": "2021-11-01T12:39:06.309464Z",
     "iopub.status.busy": "2021-11-01T12:39:06.308876Z",
     "iopub.status.idle": "2021-11-01T12:39:07.035819Z",
     "shell.execute_reply": "2021-11-01T12:39:07.036314Z",
     "shell.execute_reply.started": "2021-11-01T12:32:37.201364Z"
    },
    "papermill": {
     "duration": 0.812996,
     "end_time": "2021-11-01T12:39:07.036496",
     "exception": false,
     "start_time": "2021-11-01T12:39:06.223500",
     "status": "completed"
    },
    "tags": []
   },
   "outputs": [],
   "source": [
    "cols_to_encode= ['Married/Single','House_Ownership','Car_Ownership','Profession','CITY','STATE']\n",
    "labelencoder = LabelEncoder()\n",
    "\n",
    "for col in cols_to_encode:\n",
    "    df_[col] = labelencoder.fit_transform(df_[col])"
   ]
  },
  {
   "cell_type": "markdown",
   "id": "31fb16c1",
   "metadata": {
    "papermill": {
     "duration": 0.091432,
     "end_time": "2021-11-01T12:39:07.229129",
     "exception": false,
     "start_time": "2021-11-01T12:39:07.137697",
     "status": "completed"
    },
    "tags": []
   },
   "source": [
    "#### Checking if there is any null exists in our dataset"
   ]
  },
  {
   "cell_type": "code",
   "execution_count": 51,
   "id": "12eafdf7",
   "metadata": {
    "execution": {
     "iopub.execute_input": "2021-11-01T12:39:07.414321Z",
     "iopub.status.busy": "2021-11-01T12:39:07.413686Z",
     "iopub.status.idle": "2021-11-01T12:39:07.430275Z",
     "shell.execute_reply": "2021-11-01T12:39:07.430885Z",
     "shell.execute_reply.started": "2021-11-01T12:32:37.976535Z"
    },
    "papermill": {
     "duration": 0.11569,
     "end_time": "2021-11-01T12:39:07.431053",
     "exception": false,
     "start_time": "2021-11-01T12:39:07.315363",
     "status": "completed"
    },
    "tags": []
   },
   "outputs": [
    {
     "data": {
      "text/plain": [
       "Id                   0\n",
       "Income               0\n",
       "Age                  0\n",
       "Experience           0\n",
       "Married/Single       0\n",
       "House_Ownership      0\n",
       "Car_Ownership        0\n",
       "Profession           0\n",
       "CITY                 0\n",
       "STATE                0\n",
       "CURRENT_JOB_YRS      0\n",
       "CURRENT_HOUSE_YRS    0\n",
       "Risk_Flag            0\n",
       "dtype: int64"
      ]
     },
     "execution_count": 51,
     "metadata": {},
     "output_type": "execute_result"
    }
   ],
   "source": [
    "df_.isna().sum()"
   ]
  },
  {
   "cell_type": "code",
   "execution_count": 52,
   "id": "3d3a66a5",
   "metadata": {
    "execution": {
     "iopub.execute_input": "2021-11-01T12:39:07.604339Z",
     "iopub.status.busy": "2021-11-01T12:39:07.603111Z",
     "iopub.status.idle": "2021-11-01T12:39:07.642517Z",
     "shell.execute_reply": "2021-11-01T12:39:07.643177Z",
     "shell.execute_reply.started": "2021-11-01T12:32:37.997274Z"
    },
    "papermill": {
     "duration": 0.127087,
     "end_time": "2021-11-01T12:39:07.643349",
     "exception": false,
     "start_time": "2021-11-01T12:39:07.516262",
     "status": "completed"
    },
    "tags": []
   },
   "outputs": [],
   "source": [
    "#Dropping Id as it's not needed in prediction\n",
    "df_.drop(['Id'],axis=1,inplace=True)"
   ]
  },
  {
   "cell_type": "code",
   "execution_count": 53,
   "id": "44cfee06",
   "metadata": {
    "execution": {
     "iopub.execute_input": "2021-11-01T12:39:07.816464Z",
     "iopub.status.busy": "2021-11-01T12:39:07.815513Z",
     "iopub.status.idle": "2021-11-01T12:39:07.830749Z",
     "shell.execute_reply": "2021-11-01T12:39:07.831271Z",
     "shell.execute_reply.started": "2021-11-01T12:32:38.073938Z"
    },
    "papermill": {
     "duration": 0.104465,
     "end_time": "2021-11-01T12:39:07.831434",
     "exception": false,
     "start_time": "2021-11-01T12:39:07.726969",
     "status": "completed"
    },
    "tags": []
   },
   "outputs": [
    {
     "data": {
      "text/html": [
       "<div>\n",
       "<style scoped>\n",
       "    .dataframe tbody tr th:only-of-type {\n",
       "        vertical-align: middle;\n",
       "    }\n",
       "\n",
       "    .dataframe tbody tr th {\n",
       "        vertical-align: top;\n",
       "    }\n",
       "\n",
       "    .dataframe thead th {\n",
       "        text-align: right;\n",
       "    }\n",
       "</style>\n",
       "<table border=\"1\" class=\"dataframe\">\n",
       "  <thead>\n",
       "    <tr style=\"text-align: right;\">\n",
       "      <th></th>\n",
       "      <th>Income</th>\n",
       "      <th>Age</th>\n",
       "      <th>Experience</th>\n",
       "      <th>Married/Single</th>\n",
       "      <th>House_Ownership</th>\n",
       "      <th>Car_Ownership</th>\n",
       "      <th>Profession</th>\n",
       "      <th>CITY</th>\n",
       "      <th>STATE</th>\n",
       "      <th>CURRENT_JOB_YRS</th>\n",
       "      <th>CURRENT_HOUSE_YRS</th>\n",
       "      <th>Risk_Flag</th>\n",
       "    </tr>\n",
       "  </thead>\n",
       "  <tbody>\n",
       "    <tr>\n",
       "      <th>0</th>\n",
       "      <td>1303834</td>\n",
       "      <td>23</td>\n",
       "      <td>3</td>\n",
       "      <td>1</td>\n",
       "      <td>2</td>\n",
       "      <td>0</td>\n",
       "      <td>33</td>\n",
       "      <td>250</td>\n",
       "      <td>13</td>\n",
       "      <td>3</td>\n",
       "      <td>13</td>\n",
       "      <td>0</td>\n",
       "    </tr>\n",
       "    <tr>\n",
       "      <th>1</th>\n",
       "      <td>7574516</td>\n",
       "      <td>40</td>\n",
       "      <td>10</td>\n",
       "      <td>1</td>\n",
       "      <td>2</td>\n",
       "      <td>0</td>\n",
       "      <td>43</td>\n",
       "      <td>226</td>\n",
       "      <td>14</td>\n",
       "      <td>9</td>\n",
       "      <td>13</td>\n",
       "      <td>0</td>\n",
       "    </tr>\n",
       "    <tr>\n",
       "      <th>2</th>\n",
       "      <td>3991815</td>\n",
       "      <td>66</td>\n",
       "      <td>4</td>\n",
       "      <td>0</td>\n",
       "      <td>2</td>\n",
       "      <td>0</td>\n",
       "      <td>47</td>\n",
       "      <td>8</td>\n",
       "      <td>12</td>\n",
       "      <td>4</td>\n",
       "      <td>10</td>\n",
       "      <td>0</td>\n",
       "    </tr>\n",
       "    <tr>\n",
       "      <th>3</th>\n",
       "      <td>6256451</td>\n",
       "      <td>41</td>\n",
       "      <td>2</td>\n",
       "      <td>1</td>\n",
       "      <td>2</td>\n",
       "      <td>1</td>\n",
       "      <td>43</td>\n",
       "      <td>53</td>\n",
       "      <td>17</td>\n",
       "      <td>2</td>\n",
       "      <td>12</td>\n",
       "      <td>1</td>\n",
       "    </tr>\n",
       "    <tr>\n",
       "      <th>4</th>\n",
       "      <td>5768871</td>\n",
       "      <td>47</td>\n",
       "      <td>11</td>\n",
       "      <td>1</td>\n",
       "      <td>2</td>\n",
       "      <td>0</td>\n",
       "      <td>11</td>\n",
       "      <td>295</td>\n",
       "      <td>22</td>\n",
       "      <td>3</td>\n",
       "      <td>14</td>\n",
       "      <td>1</td>\n",
       "    </tr>\n",
       "    <tr>\n",
       "      <th>...</th>\n",
       "      <td>...</td>\n",
       "      <td>...</td>\n",
       "      <td>...</td>\n",
       "      <td>...</td>\n",
       "      <td>...</td>\n",
       "      <td>...</td>\n",
       "      <td>...</td>\n",
       "      <td>...</td>\n",
       "      <td>...</td>\n",
       "      <td>...</td>\n",
       "      <td>...</td>\n",
       "      <td>...</td>\n",
       "    </tr>\n",
       "    <tr>\n",
       "      <th>320450</th>\n",
       "      <td>9205302</td>\n",
       "      <td>77</td>\n",
       "      <td>13</td>\n",
       "      <td>1</td>\n",
       "      <td>2</td>\n",
       "      <td>1</td>\n",
       "      <td>34</td>\n",
       "      <td>80</td>\n",
       "      <td>10</td>\n",
       "      <td>11</td>\n",
       "      <td>13</td>\n",
       "      <td>1</td>\n",
       "    </tr>\n",
       "    <tr>\n",
       "      <th>320451</th>\n",
       "      <td>140516</td>\n",
       "      <td>29</td>\n",
       "      <td>19</td>\n",
       "      <td>1</td>\n",
       "      <td>2</td>\n",
       "      <td>0</td>\n",
       "      <td>39</td>\n",
       "      <td>310</td>\n",
       "      <td>22</td>\n",
       "      <td>14</td>\n",
       "      <td>10</td>\n",
       "      <td>1</td>\n",
       "    </tr>\n",
       "    <tr>\n",
       "      <th>320452</th>\n",
       "      <td>9763429</td>\n",
       "      <td>73</td>\n",
       "      <td>5</td>\n",
       "      <td>1</td>\n",
       "      <td>2</td>\n",
       "      <td>0</td>\n",
       "      <td>15</td>\n",
       "      <td>297</td>\n",
       "      <td>0</td>\n",
       "      <td>5</td>\n",
       "      <td>11</td>\n",
       "      <td>1</td>\n",
       "    </tr>\n",
       "    <tr>\n",
       "      <th>320453</th>\n",
       "      <td>6877905</td>\n",
       "      <td>40</td>\n",
       "      <td>9</td>\n",
       "      <td>1</td>\n",
       "      <td>2</td>\n",
       "      <td>1</td>\n",
       "      <td>30</td>\n",
       "      <td>63</td>\n",
       "      <td>25</td>\n",
       "      <td>7</td>\n",
       "      <td>11</td>\n",
       "      <td>1</td>\n",
       "    </tr>\n",
       "    <tr>\n",
       "      <th>320454</th>\n",
       "      <td>96503</td>\n",
       "      <td>40</td>\n",
       "      <td>13</td>\n",
       "      <td>1</td>\n",
       "      <td>2</td>\n",
       "      <td>0</td>\n",
       "      <td>25</td>\n",
       "      <td>266</td>\n",
       "      <td>8</td>\n",
       "      <td>3</td>\n",
       "      <td>14</td>\n",
       "      <td>1</td>\n",
       "    </tr>\n",
       "  </tbody>\n",
       "</table>\n",
       "<p>320455 rows × 12 columns</p>\n",
       "</div>"
      ],
      "text/plain": [
       "         Income  Age  Experience  Married/Single  House_Ownership  \\\n",
       "0       1303834   23           3               1                2   \n",
       "1       7574516   40          10               1                2   \n",
       "2       3991815   66           4               0                2   \n",
       "3       6256451   41           2               1                2   \n",
       "4       5768871   47          11               1                2   \n",
       "...         ...  ...         ...             ...              ...   \n",
       "320450  9205302   77          13               1                2   \n",
       "320451   140516   29          19               1                2   \n",
       "320452  9763429   73           5               1                2   \n",
       "320453  6877905   40           9               1                2   \n",
       "320454    96503   40          13               1                2   \n",
       "\n",
       "        Car_Ownership  Profession  CITY  STATE  CURRENT_JOB_YRS  \\\n",
       "0                   0          33   250     13                3   \n",
       "1                   0          43   226     14                9   \n",
       "2                   0          47     8     12                4   \n",
       "3                   1          43    53     17                2   \n",
       "4                   0          11   295     22                3   \n",
       "...               ...         ...   ...    ...              ...   \n",
       "320450              1          34    80     10               11   \n",
       "320451              0          39   310     22               14   \n",
       "320452              0          15   297      0                5   \n",
       "320453              1          30    63     25                7   \n",
       "320454              0          25   266      8                3   \n",
       "\n",
       "        CURRENT_HOUSE_YRS  Risk_Flag  \n",
       "0                      13          0  \n",
       "1                      13          0  \n",
       "2                      10          0  \n",
       "3                      12          1  \n",
       "4                      14          1  \n",
       "...                   ...        ...  \n",
       "320450                 13          1  \n",
       "320451                 10          1  \n",
       "320452                 11          1  \n",
       "320453                 11          1  \n",
       "320454                 14          1  \n",
       "\n",
       "[320455 rows x 12 columns]"
      ]
     },
     "execution_count": 53,
     "metadata": {},
     "output_type": "execute_result"
    }
   ],
   "source": [
    "df_"
   ]
  },
  {
   "cell_type": "code",
   "execution_count": 54,
   "id": "eaa72487",
   "metadata": {
    "execution": {
     "iopub.execute_input": "2021-11-01T12:39:08.004611Z",
     "iopub.status.busy": "2021-11-01T12:39:08.003613Z",
     "iopub.status.idle": "2021-11-01T12:39:08.010882Z",
     "shell.execute_reply": "2021-11-01T12:39:08.011485Z",
     "shell.execute_reply.started": "2021-11-01T12:32:38.096856Z"
    },
    "papermill": {
     "duration": 0.095081,
     "end_time": "2021-11-01T12:39:08.011712",
     "exception": false,
     "start_time": "2021-11-01T12:39:07.916631",
     "status": "completed"
    },
    "tags": []
   },
   "outputs": [],
   "source": [
    "X = df_.iloc[:,:-1]\n",
    "y = df_['Risk_Flag']"
   ]
  },
  {
   "cell_type": "markdown",
   "id": "54c15b6e",
   "metadata": {
    "papermill": {
     "duration": 0.084057,
     "end_time": "2021-11-01T12:39:08.180362",
     "exception": false,
     "start_time": "2021-11-01T12:39:08.096305",
     "status": "completed"
    },
    "tags": []
   },
   "source": [
    "# Splitting the dataset into training and test set"
   ]
  },
  {
   "cell_type": "code",
   "execution_count": 55,
   "id": "4d2673d1",
   "metadata": {
    "execution": {
     "iopub.execute_input": "2021-11-01T12:39:08.352881Z",
     "iopub.status.busy": "2021-11-01T12:39:08.351895Z",
     "iopub.status.idle": "2021-11-01T12:39:08.406413Z",
     "shell.execute_reply": "2021-11-01T12:39:08.406987Z",
     "shell.execute_reply.started": "2021-11-01T12:32:38.107712Z"
    },
    "papermill": {
     "duration": 0.142494,
     "end_time": "2021-11-01T12:39:08.407162",
     "exception": false,
     "start_time": "2021-11-01T12:39:08.264668",
     "status": "completed"
    },
    "tags": []
   },
   "outputs": [],
   "source": [
    "from sklearn. model_selection import train_test_split\n",
    "\n",
    "X_train,X_test,y_train,y_test = train_test_split(X,y,test_size=0.3,random_state=42)"
   ]
  },
  {
   "cell_type": "code",
   "execution_count": 56,
   "id": "2836ed83",
   "metadata": {
    "execution": {
     "iopub.execute_input": "2021-11-01T12:39:08.579934Z",
     "iopub.status.busy": "2021-11-01T12:39:08.578966Z",
     "iopub.status.idle": "2021-11-01T12:39:08.582653Z",
     "shell.execute_reply": "2021-11-01T12:39:08.583140Z",
     "shell.execute_reply.started": "2021-11-01T12:32:38.219245Z"
    },
    "papermill": {
     "duration": 0.091264,
     "end_time": "2021-11-01T12:39:08.583302",
     "exception": false,
     "start_time": "2021-11-01T12:39:08.492038",
     "status": "completed"
    },
    "tags": []
   },
   "outputs": [],
   "source": [
    "from sklearn.metrics import f1_score,classification_report,plot_confusion_matrix,plot_roc_curve"
   ]
  },
  {
   "cell_type": "markdown",
   "id": "e844981f",
   "metadata": {
    "papermill": {
     "duration": 0.084657,
     "end_time": "2021-11-01T12:39:08.752943",
     "exception": false,
     "start_time": "2021-11-01T12:39:08.668286",
     "status": "completed"
    },
    "tags": []
   },
   "source": [
    "# Prediction"
   ]
  },
  {
   "cell_type": "code",
   "execution_count": 57,
   "id": "635f47b0",
   "metadata": {
    "execution": {
     "iopub.execute_input": "2021-11-01T12:39:08.926277Z",
     "iopub.status.busy": "2021-11-01T12:39:08.925640Z",
     "iopub.status.idle": "2021-11-01T12:39:10.902179Z",
     "shell.execute_reply": "2021-11-01T12:39:10.901432Z",
     "shell.execute_reply.started": "2021-11-01T12:32:38.227022Z"
    },
    "papermill": {
     "duration": 2.06469,
     "end_time": "2021-11-01T12:39:10.902339",
     "exception": false,
     "start_time": "2021-11-01T12:39:08.837649",
     "status": "completed"
    },
    "tags": []
   },
   "outputs": [
    {
     "name": "stdout",
     "output_type": "stream",
     "text": [
      "F1 Score: 0.8722408430715343\n",
      "\n",
      "              precision    recall  f1-score   support\n",
      "\n",
      "           0       0.99      0.88      0.93     66611\n",
      "           1       0.79      0.98      0.87     29526\n",
      "\n",
      "    accuracy                           0.91     96137\n",
      "   macro avg       0.89      0.93      0.90     96137\n",
      "weighted avg       0.93      0.91      0.91     96137\n",
      "\n"
     ]
    },
    {
     "data": {
      "text/plain": [
       "<sklearn.metrics._plot.confusion_matrix.ConfusionMatrixDisplay at 0x7ff9654bab50>"
      ]
     },
     "execution_count": 57,
     "metadata": {},
     "output_type": "execute_result"
    },
    {
     "data": {
      "image/png": "[encoded data removed]",
      "text/plain": [
       "<Figure size 432x288 with 2 Axes>"
      ]
     },
     "metadata": {
      "needs_background": "light"
     },
     "output_type": "display_data"
    }
   ],
   "source": [
    "from sklearn.tree import DecisionTreeClassifier\n",
    "\n",
    "dt = DecisionTreeClassifier()\n",
    "dt.fit(X_train,y_train)\n",
    "pred = dt.predict(X_test)\n",
    "print(f'F1 Score: {f1_score(y_test,pred)}\\n')\n",
    "print(classification_report(y_test,pred))\n",
    "plot_confusion_matrix(estimator=dt,X=X_test,y_true=y_test)"
   ]
  },
  {
   "cell_type": "code",
   "execution_count": 58,
   "id": "8c4194e2",
   "metadata": {
    "execution": {
     "iopub.execute_input": "2021-11-01T12:39:11.081334Z",
     "iopub.status.busy": "2021-11-01T12:39:11.080637Z",
     "iopub.status.idle": "2021-11-01T12:39:11.356266Z",
     "shell.execute_reply": "2021-11-01T12:39:11.355764Z",
     "shell.execute_reply.started": "2021-11-01T12:32:40.626284Z"
    },
    "papermill": {
     "duration": 0.366834,
     "end_time": "2021-11-01T12:39:11.356406",
     "exception": false,
     "start_time": "2021-11-01T12:39:10.989572",
     "status": "completed"
    },
    "tags": []
   },
   "outputs": [
    {
     "data": {
      "text/plain": [
       "[<matplotlib.lines.Line2D at 0x7ff9647ddbd0>]"
      ]
     },
     "execution_count": 58,
     "metadata": {},
     "output_type": "execute_result"
    },
    {
     "data": {
      "image/png": "[encoded data removed]",
      "text/plain": [
       "<Figure size 432x288 with 1 Axes>"
      ]
     },
     "metadata": {
      "needs_background": "light"
     },
     "output_type": "display_data"
    }
   ],
   "source": [
    "plot_roc_curve(estimator=dt,X=X_test,y=y_test)\n",
    "plt.plot([0,1],[0,1],\"--\",c='black')"
   ]
  },
  {
   "cell_type": "markdown",
   "id": "a60b811b",
   "metadata": {
    "papermill": {
     "duration": 0.087733,
     "end_time": "2021-11-01T12:39:11.531928",
     "exception": false,
     "start_time": "2021-11-01T12:39:11.444195",
     "status": "completed"
    },
    "tags": []
   },
   "source": [
    "### We've achieved the Accuracy of 91% and F1 Score of 0.87 "
   ]
  }
 ],
 "metadata": {
  "kernelspec": {
   "display_name": "Python 3",
   "language": "python",
   "name": "python3"
  },
  "language_info": {
   "codemirror_mode": {
    "name": "ipython",
    "version": 3
   },
   "file_extension": ".py",
   "mimetype": "text/x-python",
   "name": "python",
   "nbconvert_exporter": "python",
   "pygments_lexer": "ipython3",
   "version": "3.7.10"
  },
  "papermill": {
   "default_parameters": {},
   "duration": 56.874113,
   "end_time": "2021-11-01T12:39:14.460971",
   "environment_variables": {},
   "exception": null,
   "input_path": "__notebook__.ipynb",
   "output_path": "__notebook__.ipynb",
   "parameters": {},
   "start_time": "2021-11-01T12:38:17.586858",
   "version": "2.3.3"
  }
 },
 "nbformat": 4,
 "nbformat_minor": 5
}
